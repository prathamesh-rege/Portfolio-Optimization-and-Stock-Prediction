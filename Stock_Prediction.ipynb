{
 "cells": [
  {
   "cell_type": "markdown",
   "id": "334935b0",
   "metadata": {},
   "source": [
    "# Stock Market Prediction and Forecasting"
   ]
  },
  {
   "cell_type": "markdown",
   "id": "aaf4c4c6",
   "metadata": {},
   "source": [
    "## Importing Libraries"
   ]
  },
  {
   "cell_type": "code",
   "execution_count": 100,
   "id": "382777cb",
   "metadata": {},
   "outputs": [],
   "source": [
    "#pip install pandas-datareader"
   ]
  },
  {
   "cell_type": "code",
   "execution_count": 101,
   "id": "eb5771c1",
   "metadata": {},
   "outputs": [],
   "source": [
    "#pip install tensorflow"
   ]
  },
  {
   "cell_type": "code",
   "execution_count": 102,
   "id": "1b781282",
   "metadata": {},
   "outputs": [],
   "source": [
    "# conda install tensorflow"
   ]
  },
  {
   "cell_type": "code",
   "execution_count": 103,
   "id": "979ecfac",
   "metadata": {},
   "outputs": [],
   "source": [
    "import math\n",
    "import numpy as np\n",
    "import pandas as pd\n",
    "import pandas_datareader as pdr\n",
    "import matplotlib.pyplot as plt"
   ]
  },
  {
   "cell_type": "code",
   "execution_count": 104,
   "id": "c94cf061",
   "metadata": {},
   "outputs": [],
   "source": [
    "key='bc1d976a3563e0e50951ec7c3631ef451dbcdb61'"
   ]
  },
  {
   "cell_type": "code",
   "execution_count": 105,
   "id": "6f3606dc",
   "metadata": {},
   "outputs": [
    {
     "name": "stderr",
     "output_type": "stream",
     "text": [
      "/Users/prathameshrege/opt/anaconda3/lib/python3.9/site-packages/pandas_datareader/tiingo.py:234: FutureWarning: In a future version of pandas all arguments of concat except for the argument 'objs' will be keyword-only.\n",
      "  return pd.concat(dfs, self._concat_axis)\n"
     ]
    }
   ],
   "source": [
    "df=pdr.get_data_tiingo('BLK',api_key=key)"
   ]
  },
  {
   "cell_type": "code",
   "execution_count": 106,
   "id": "6c6f379a",
   "metadata": {},
   "outputs": [],
   "source": [
    "df.to_csv('BLK.csv')"
   ]
  },
  {
   "cell_type": "code",
   "execution_count": 107,
   "id": "017a1f2a",
   "metadata": {},
   "outputs": [],
   "source": [
    "df=pd.read_csv('BLK.csv')"
   ]
  },
  {
   "cell_type": "code",
   "execution_count": 108,
   "id": "80eed6fa",
   "metadata": {},
   "outputs": [
    {
     "data": {
      "text/html": [
       "<div>\n",
       "<style scoped>\n",
       "    .dataframe tbody tr th:only-of-type {\n",
       "        vertical-align: middle;\n",
       "    }\n",
       "\n",
       "    .dataframe tbody tr th {\n",
       "        vertical-align: top;\n",
       "    }\n",
       "\n",
       "    .dataframe thead th {\n",
       "        text-align: right;\n",
       "    }\n",
       "</style>\n",
       "<table border=\"1\" class=\"dataframe\">\n",
       "  <thead>\n",
       "    <tr style=\"text-align: right;\">\n",
       "      <th></th>\n",
       "      <th>symbol</th>\n",
       "      <th>date</th>\n",
       "      <th>close</th>\n",
       "      <th>high</th>\n",
       "      <th>low</th>\n",
       "      <th>open</th>\n",
       "      <th>volume</th>\n",
       "      <th>adjClose</th>\n",
       "      <th>adjHigh</th>\n",
       "      <th>adjLow</th>\n",
       "      <th>adjOpen</th>\n",
       "      <th>adjVolume</th>\n",
       "      <th>divCash</th>\n",
       "      <th>splitFactor</th>\n",
       "    </tr>\n",
       "  </thead>\n",
       "  <tbody>\n",
       "    <tr>\n",
       "      <th>0</th>\n",
       "      <td>BLK</td>\n",
       "      <td>2019-08-06 00:00:00+00:00</td>\n",
       "      <td>435.71</td>\n",
       "      <td>437.89</td>\n",
       "      <td>430.22</td>\n",
       "      <td>435.39</td>\n",
       "      <td>418125</td>\n",
       "      <td>382.902703</td>\n",
       "      <td>384.818491</td>\n",
       "      <td>378.078081</td>\n",
       "      <td>382.621486</td>\n",
       "      <td>418125</td>\n",
       "      <td>0.0</td>\n",
       "      <td>1.0</td>\n",
       "    </tr>\n",
       "    <tr>\n",
       "      <th>1</th>\n",
       "      <td>BLK</td>\n",
       "      <td>2019-08-07 00:00:00+00:00</td>\n",
       "      <td>430.39</td>\n",
       "      <td>432.79</td>\n",
       "      <td>423.46</td>\n",
       "      <td>426.74</td>\n",
       "      <td>573953</td>\n",
       "      <td>378.227478</td>\n",
       "      <td>380.336602</td>\n",
       "      <td>372.137382</td>\n",
       "      <td>375.019851</td>\n",
       "      <td>573953</td>\n",
       "      <td>0.0</td>\n",
       "      <td>1.0</td>\n",
       "    </tr>\n",
       "    <tr>\n",
       "      <th>2</th>\n",
       "      <td>BLK</td>\n",
       "      <td>2019-08-08 00:00:00+00:00</td>\n",
       "      <td>437.62</td>\n",
       "      <td>438.44</td>\n",
       "      <td>431.60</td>\n",
       "      <td>434.00</td>\n",
       "      <td>499922</td>\n",
       "      <td>384.581214</td>\n",
       "      <td>385.301831</td>\n",
       "      <td>379.290828</td>\n",
       "      <td>381.399952</td>\n",
       "      <td>499922</td>\n",
       "      <td>0.0</td>\n",
       "      <td>1.0</td>\n",
       "    </tr>\n",
       "    <tr>\n",
       "      <th>3</th>\n",
       "      <td>BLK</td>\n",
       "      <td>2019-08-09 00:00:00+00:00</td>\n",
       "      <td>426.33</td>\n",
       "      <td>435.11</td>\n",
       "      <td>425.85</td>\n",
       "      <td>435.02</td>\n",
       "      <td>649988</td>\n",
       "      <td>374.659543</td>\n",
       "      <td>382.375422</td>\n",
       "      <td>374.237718</td>\n",
       "      <td>382.296330</td>\n",
       "      <td>649988</td>\n",
       "      <td>0.0</td>\n",
       "      <td>1.0</td>\n",
       "    </tr>\n",
       "    <tr>\n",
       "      <th>4</th>\n",
       "      <td>BLK</td>\n",
       "      <td>2019-08-12 00:00:00+00:00</td>\n",
       "      <td>416.44</td>\n",
       "      <td>425.94</td>\n",
       "      <td>414.46</td>\n",
       "      <td>420.24</td>\n",
       "      <td>642600</td>\n",
       "      <td>365.968193</td>\n",
       "      <td>374.316810</td>\n",
       "      <td>364.228166</td>\n",
       "      <td>369.307640</td>\n",
       "      <td>642600</td>\n",
       "      <td>0.0</td>\n",
       "      <td>1.0</td>\n",
       "    </tr>\n",
       "  </tbody>\n",
       "</table>\n",
       "</div>"
      ],
      "text/plain": [
       "  symbol                       date   close    high     low    open  volume  \\\n",
       "0    BLK  2019-08-06 00:00:00+00:00  435.71  437.89  430.22  435.39  418125   \n",
       "1    BLK  2019-08-07 00:00:00+00:00  430.39  432.79  423.46  426.74  573953   \n",
       "2    BLK  2019-08-08 00:00:00+00:00  437.62  438.44  431.60  434.00  499922   \n",
       "3    BLK  2019-08-09 00:00:00+00:00  426.33  435.11  425.85  435.02  649988   \n",
       "4    BLK  2019-08-12 00:00:00+00:00  416.44  425.94  414.46  420.24  642600   \n",
       "\n",
       "     adjClose     adjHigh      adjLow     adjOpen  adjVolume  divCash  \\\n",
       "0  382.902703  384.818491  378.078081  382.621486     418125      0.0   \n",
       "1  378.227478  380.336602  372.137382  375.019851     573953      0.0   \n",
       "2  384.581214  385.301831  379.290828  381.399952     499922      0.0   \n",
       "3  374.659543  382.375422  374.237718  382.296330     649988      0.0   \n",
       "4  365.968193  374.316810  364.228166  369.307640     642600      0.0   \n",
       "\n",
       "   splitFactor  \n",
       "0          1.0  \n",
       "1          1.0  \n",
       "2          1.0  \n",
       "3          1.0  \n",
       "4          1.0  "
      ]
     },
     "execution_count": 108,
     "metadata": {},
     "output_type": "execute_result"
    }
   ],
   "source": [
    "df.head()"
   ]
  },
  {
   "cell_type": "markdown",
   "id": "8255083d",
   "metadata": {},
   "source": [
    "The starting year for our stock data is 2019"
   ]
  },
  {
   "cell_type": "code",
   "execution_count": 109,
   "id": "c21a5272",
   "metadata": {},
   "outputs": [
    {
     "data": {
      "text/html": [
       "<div>\n",
       "<style scoped>\n",
       "    .dataframe tbody tr th:only-of-type {\n",
       "        vertical-align: middle;\n",
       "    }\n",
       "\n",
       "    .dataframe tbody tr th {\n",
       "        vertical-align: top;\n",
       "    }\n",
       "\n",
       "    .dataframe thead th {\n",
       "        text-align: right;\n",
       "    }\n",
       "</style>\n",
       "<table border=\"1\" class=\"dataframe\">\n",
       "  <thead>\n",
       "    <tr style=\"text-align: right;\">\n",
       "      <th></th>\n",
       "      <th>symbol</th>\n",
       "      <th>date</th>\n",
       "      <th>close</th>\n",
       "      <th>high</th>\n",
       "      <th>low</th>\n",
       "      <th>open</th>\n",
       "      <th>volume</th>\n",
       "      <th>adjClose</th>\n",
       "      <th>adjHigh</th>\n",
       "      <th>adjLow</th>\n",
       "      <th>adjOpen</th>\n",
       "      <th>adjVolume</th>\n",
       "      <th>divCash</th>\n",
       "      <th>splitFactor</th>\n",
       "    </tr>\n",
       "  </thead>\n",
       "  <tbody>\n",
       "    <tr>\n",
       "      <th>1252</th>\n",
       "      <td>BLK</td>\n",
       "      <td>2024-07-29 00:00:00+00:00</td>\n",
       "      <td>862.15</td>\n",
       "      <td>865.1700</td>\n",
       "      <td>852.3700</td>\n",
       "      <td>858.00</td>\n",
       "      <td>612694</td>\n",
       "      <td>862.15</td>\n",
       "      <td>865.1700</td>\n",
       "      <td>852.3700</td>\n",
       "      <td>858.00</td>\n",
       "      <td>612694</td>\n",
       "      <td>0.0</td>\n",
       "      <td>1.0</td>\n",
       "    </tr>\n",
       "    <tr>\n",
       "      <th>1253</th>\n",
       "      <td>BLK</td>\n",
       "      <td>2024-07-30 00:00:00+00:00</td>\n",
       "      <td>872.59</td>\n",
       "      <td>873.8929</td>\n",
       "      <td>865.1772</td>\n",
       "      <td>868.13</td>\n",
       "      <td>539579</td>\n",
       "      <td>872.59</td>\n",
       "      <td>873.8929</td>\n",
       "      <td>865.1772</td>\n",
       "      <td>868.13</td>\n",
       "      <td>539579</td>\n",
       "      <td>0.0</td>\n",
       "      <td>1.0</td>\n",
       "    </tr>\n",
       "    <tr>\n",
       "      <th>1254</th>\n",
       "      <td>BLK</td>\n",
       "      <td>2024-07-31 00:00:00+00:00</td>\n",
       "      <td>876.50</td>\n",
       "      <td>885.1000</td>\n",
       "      <td>871.9000</td>\n",
       "      <td>875.32</td>\n",
       "      <td>656942</td>\n",
       "      <td>876.50</td>\n",
       "      <td>885.1000</td>\n",
       "      <td>871.9000</td>\n",
       "      <td>875.32</td>\n",
       "      <td>656942</td>\n",
       "      <td>0.0</td>\n",
       "      <td>1.0</td>\n",
       "    </tr>\n",
       "    <tr>\n",
       "      <th>1255</th>\n",
       "      <td>BLK</td>\n",
       "      <td>2024-08-01 00:00:00+00:00</td>\n",
       "      <td>865.35</td>\n",
       "      <td>884.6700</td>\n",
       "      <td>860.3200</td>\n",
       "      <td>880.00</td>\n",
       "      <td>586568</td>\n",
       "      <td>865.35</td>\n",
       "      <td>884.6700</td>\n",
       "      <td>860.3200</td>\n",
       "      <td>880.00</td>\n",
       "      <td>586568</td>\n",
       "      <td>0.0</td>\n",
       "      <td>1.0</td>\n",
       "    </tr>\n",
       "    <tr>\n",
       "      <th>1256</th>\n",
       "      <td>BLK</td>\n",
       "      <td>2024-08-02 00:00:00+00:00</td>\n",
       "      <td>846.02</td>\n",
       "      <td>858.2000</td>\n",
       "      <td>839.2900</td>\n",
       "      <td>855.00</td>\n",
       "      <td>479910</td>\n",
       "      <td>846.02</td>\n",
       "      <td>858.2000</td>\n",
       "      <td>839.2900</td>\n",
       "      <td>855.00</td>\n",
       "      <td>479910</td>\n",
       "      <td>0.0</td>\n",
       "      <td>1.0</td>\n",
       "    </tr>\n",
       "  </tbody>\n",
       "</table>\n",
       "</div>"
      ],
      "text/plain": [
       "     symbol                       date   close      high       low    open  \\\n",
       "1252    BLK  2024-07-29 00:00:00+00:00  862.15  865.1700  852.3700  858.00   \n",
       "1253    BLK  2024-07-30 00:00:00+00:00  872.59  873.8929  865.1772  868.13   \n",
       "1254    BLK  2024-07-31 00:00:00+00:00  876.50  885.1000  871.9000  875.32   \n",
       "1255    BLK  2024-08-01 00:00:00+00:00  865.35  884.6700  860.3200  880.00   \n",
       "1256    BLK  2024-08-02 00:00:00+00:00  846.02  858.2000  839.2900  855.00   \n",
       "\n",
       "      volume  adjClose   adjHigh    adjLow  adjOpen  adjVolume  divCash  \\\n",
       "1252  612694    862.15  865.1700  852.3700   858.00     612694      0.0   \n",
       "1253  539579    872.59  873.8929  865.1772   868.13     539579      0.0   \n",
       "1254  656942    876.50  885.1000  871.9000   875.32     656942      0.0   \n",
       "1255  586568    865.35  884.6700  860.3200   880.00     586568      0.0   \n",
       "1256  479910    846.02  858.2000  839.2900   855.00     479910      0.0   \n",
       "\n",
       "      splitFactor  \n",
       "1252          1.0  \n",
       "1253          1.0  \n",
       "1254          1.0  \n",
       "1255          1.0  \n",
       "1256          1.0  "
      ]
     },
     "execution_count": 109,
     "metadata": {},
     "output_type": "execute_result"
    }
   ],
   "source": [
    "df.tail()"
   ]
  },
  {
   "cell_type": "markdown",
   "id": "9ebd4989",
   "metadata": {},
   "source": [
    "As we can see the csv file conatins the stock data till the latest date. We have 5 years of stock data in our dataset. The dataset gets updated each day"
   ]
  },
  {
   "cell_type": "markdown",
   "id": "9f26732f",
   "metadata": {},
   "source": [
    "We will select the 'Close' column as our target column and make predictions on this column"
   ]
  },
  {
   "cell_type": "code",
   "execution_count": 110,
   "id": "cf19b007",
   "metadata": {},
   "outputs": [],
   "source": [
    "df1=df.reset_index()['close']"
   ]
  },
  {
   "cell_type": "code",
   "execution_count": 111,
   "id": "9dde453f",
   "metadata": {},
   "outputs": [
    {
     "data": {
      "text/plain": [
       "(1257,)"
      ]
     },
     "execution_count": 111,
     "metadata": {},
     "output_type": "execute_result"
    }
   ],
   "source": [
    "df1.shape"
   ]
  },
  {
   "cell_type": "code",
   "execution_count": 112,
   "id": "ecffd265",
   "metadata": {},
   "outputs": [
    {
     "data": {
      "text/plain": [
       "0       435.71\n",
       "1       430.39\n",
       "2       437.62\n",
       "3       426.33\n",
       "4       416.44\n",
       "         ...  \n",
       "1252    862.15\n",
       "1253    872.59\n",
       "1254    876.50\n",
       "1255    865.35\n",
       "1256    846.02\n",
       "Name: close, Length: 1257, dtype: float64"
      ]
     },
     "execution_count": 112,
     "metadata": {},
     "output_type": "execute_result"
    }
   ],
   "source": [
    "df1"
   ]
  },
  {
   "cell_type": "markdown",
   "id": "05be7b82",
   "metadata": {},
   "source": [
    "Lets plot the target column"
   ]
  },
  {
   "cell_type": "code",
   "execution_count": 113,
   "id": "eebe35ec",
   "metadata": {},
   "outputs": [
    {
     "data": {
      "text/plain": [
       "[<matplotlib.lines.Line2D at 0x7f920b2e52b0>]"
      ]
     },
     "execution_count": 113,
     "metadata": {},
     "output_type": "execute_result"
    },
    {
     "data": {
      "image/png": "[encoded data removed]",
      "text/plain": [
       "<Figure size 432x288 with 1 Axes>"
      ]
     },
     "metadata": {
      "needs_background": "light"
     },
     "output_type": "display_data"
    }
   ],
   "source": [
    "plt.plot(df1)"
   ]
  },
  {
   "cell_type": "markdown",
   "id": "932f052b",
   "metadata": {},
   "source": [
    "Applying MinMax scaling as LSTM models are sensitive to scale of data"
   ]
  },
  {
   "cell_type": "code",
   "execution_count": 114,
   "id": "f8446695",
   "metadata": {},
   "outputs": [],
   "source": [
    "from sklearn.preprocessing import MinMaxScaler\n",
    "scaler=MinMaxScaler(feature_range=(0,1))\n",
    "df1=scaler.fit_transform(np.array(df1).reshape(-1,1))"
   ]
  },
  {
   "cell_type": "code",
   "execution_count": 115,
   "id": "d7f0188f",
   "metadata": {},
   "outputs": [
    {
     "data": {
      "text/plain": [
       "array([[0.1681339 ],\n",
       "       [0.15987393],\n",
       "       [0.17109941],\n",
       "       ...,\n",
       "       [0.85251603],\n",
       "       [0.83520425],\n",
       "       [0.80519198]])"
      ]
     },
     "execution_count": 115,
     "metadata": {},
     "output_type": "execute_result"
    }
   ],
   "source": [
    "df1"
   ]
  },
  {
   "cell_type": "markdown",
   "id": "4f260dcc",
   "metadata": {},
   "source": [
    "## Train Test Split"
   ]
  },
  {
   "cell_type": "code",
   "execution_count": 116,
   "id": "c7232dea",
   "metadata": {},
   "outputs": [],
   "source": [
    "training_size=int(len(df1)*0.65)\n",
    "test_size=len(df1)-training_size"
   ]
  },
  {
   "cell_type": "code",
   "execution_count": 117,
   "id": "218a15ed",
   "metadata": {},
   "outputs": [
    {
     "data": {
      "text/plain": [
       "(817, 440)"
      ]
     },
     "execution_count": 117,
     "metadata": {},
     "output_type": "execute_result"
    }
   ],
   "source": [
    "training_size,test_size"
   ]
  },
  {
   "cell_type": "code",
   "execution_count": 118,
   "id": "a91b8d3c",
   "metadata": {},
   "outputs": [],
   "source": [
    "train_data,test_data=df1[0:training_size,:],df1[training_size:len(df1),:1]"
   ]
  },
  {
   "cell_type": "code",
   "execution_count": 119,
   "id": "8916b265",
   "metadata": {},
   "outputs": [
    {
     "data": {
      "text/plain": [
       "440"
      ]
     },
     "execution_count": 119,
     "metadata": {},
     "output_type": "execute_result"
    }
   ],
   "source": [
    "len(test_data)"
   ]
  },
  {
   "cell_type": "markdown",
   "id": "ff6c826e",
   "metadata": {},
   "source": [
    "We will create a function to convert the array of values into a dataset matrix"
   ]
  },
  {
   "cell_type": "code",
   "execution_count": 120,
   "id": "1778598f",
   "metadata": {},
   "outputs": [],
   "source": [
    "def create_dataset(dataset,time_step=1):\n",
    "    dataX,dataY = [],[]\n",
    "    for i in range(len(dataset)-time_step-1):\n",
    "        a=dataset[i:(i+time_step),0]\n",
    "        dataX.append(a)\n",
    "        dataY.append(dataset[i+time_step,0])\n",
    "    return np.array(dataX),np.array(dataY)"
   ]
  },
  {
   "cell_type": "code",
   "execution_count": 121,
   "id": "2dec9d3d",
   "metadata": {},
   "outputs": [],
   "source": [
    "time_step=100\n",
    "X_train,y_train=create_dataset(train_data,time_step)\n",
    "X_test,y_test=create_dataset(test_data,time_step)"
   ]
  },
  {
   "cell_type": "code",
   "execution_count": 122,
   "id": "166cb216",
   "metadata": {},
   "outputs": [
    {
     "name": "stdout",
     "output_type": "stream",
     "text": [
      "(716, 100)\n",
      "(716,)\n"
     ]
    },
    {
     "data": {
      "text/plain": [
       "(None, None)"
      ]
     },
     "execution_count": 122,
     "metadata": {},
     "output_type": "execute_result"
    }
   ],
   "source": [
    "print(X_train.shape),print(y_train.shape)"
   ]
  },
  {
   "cell_type": "code",
   "execution_count": 123,
   "id": "ba79231b",
   "metadata": {},
   "outputs": [
    {
     "name": "stdout",
     "output_type": "stream",
     "text": [
      "(339, 100)\n",
      "(339,)\n"
     ]
    },
    {
     "data": {
      "text/plain": [
       "(None, None)"
      ]
     },
     "execution_count": 123,
     "metadata": {},
     "output_type": "execute_result"
    }
   ],
   "source": [
    "print(X_test.shape),print(y_test.shape)"
   ]
  },
  {
   "cell_type": "markdown",
   "id": "e94d222d",
   "metadata": {},
   "source": [
    "We will now reshape the input into 3 dimensions [samples,time steps,features] which is required for LSTM"
   ]
  },
  {
   "cell_type": "code",
   "execution_count": 124,
   "id": "f77e8943",
   "metadata": {},
   "outputs": [],
   "source": [
    "X_train=X_train.reshape(X_train.shape[0],X_train.shape[1],1)\n",
    "X_test=X_test.reshape(X_test.shape[0],X_test.shape[1],1)"
   ]
  },
  {
   "cell_type": "markdown",
   "id": "4d65c39c",
   "metadata": {},
   "source": [
    "## Model Training"
   ]
  },
  {
   "cell_type": "markdown",
   "id": "61808109",
   "metadata": {},
   "source": [
    "We will now create the Stacked LSTM Model"
   ]
  },
  {
   "cell_type": "code",
   "execution_count": 125,
   "id": "23696746",
   "metadata": {},
   "outputs": [],
   "source": [
    "from tensorflow.keras.models import Sequential\n",
    "from tensorflow.keras.layers import Dense\n",
    "from tensorflow.keras.layers import LSTM"
   ]
  },
  {
   "cell_type": "code",
   "execution_count": 126,
   "id": "a6346edc",
   "metadata": {},
   "outputs": [],
   "source": [
    "model=Sequential()\n",
    "model.add(LSTM(50,return_sequences=True,input_shape=(100,1)))\n",
    "model.add(LSTM(50,return_sequences=True))\n",
    "model.add(LSTM(50))\n",
    "model.add(Dense(1))\n",
    "model.compile(loss='mean_squared_error',optimizer='adam')"
   ]
  },
  {
   "cell_type": "code",
   "execution_count": 127,
   "id": "4cde6f8a",
   "metadata": {},
   "outputs": [
    {
     "name": "stdout",
     "output_type": "stream",
     "text": [
      "Model: \"sequential_1\"\n",
      "_________________________________________________________________\n",
      " Layer (type)                Output Shape              Param #   \n",
      "=================================================================\n",
      " lstm_3 (LSTM)               (None, 100, 50)           10400     \n",
      "                                                                 \n",
      " lstm_4 (LSTM)               (None, 100, 50)           20200     \n",
      "                                                                 \n",
      " lstm_5 (LSTM)               (None, 50)                20200     \n",
      "                                                                 \n",
      " dense_1 (Dense)             (None, 1)                 51        \n",
      "                                                                 \n",
      "=================================================================\n",
      "Total params: 50,851\n",
      "Trainable params: 50,851\n",
      "Non-trainable params: 0\n",
      "_________________________________________________________________\n"
     ]
    }
   ],
   "source": [
    "model.summary()"
   ]
  },
  {
   "cell_type": "code",
   "execution_count": 128,
   "id": "472a42cb",
   "metadata": {},
   "outputs": [
    {
     "name": "stdout",
     "output_type": "stream",
     "text": [
      "Epoch 1/100\n",
      "12/12 [==============================] - 8s 351ms/step - loss: 0.1168 - val_loss: 0.0060\n",
      "Epoch 2/100\n",
      "12/12 [==============================] - 2s 167ms/step - loss: 0.0155 - val_loss: 0.0071\n",
      "Epoch 3/100\n",
      "12/12 [==============================] - 2s 185ms/step - loss: 0.0091 - val_loss: 0.0044\n",
      "Epoch 4/100\n",
      "12/12 [==============================] - 2s 159ms/step - loss: 0.0056 - val_loss: 0.0023\n",
      "Epoch 5/100\n",
      "12/12 [==============================] - 2s 153ms/step - loss: 0.0042 - val_loss: 0.0023\n",
      "Epoch 6/100\n",
      "12/12 [==============================] - 2s 152ms/step - loss: 0.0040 - val_loss: 0.0022\n",
      "Epoch 7/100\n",
      "12/12 [==============================] - 2s 198ms/step - loss: 0.0040 - val_loss: 0.0022\n",
      "Epoch 8/100\n",
      "12/12 [==============================] - 2s 175ms/step - loss: 0.0039 - val_loss: 0.0022\n",
      "Epoch 9/100\n",
      "12/12 [==============================] - 2s 175ms/step - loss: 0.0039 - val_loss: 0.0021\n",
      "Epoch 10/100\n",
      "12/12 [==============================] - 2s 207ms/step - loss: 0.0037 - val_loss: 0.0020\n",
      "Epoch 11/100\n",
      "12/12 [==============================] - 2s 210ms/step - loss: 0.0035 - val_loss: 0.0020\n",
      "Epoch 12/100\n",
      "12/12 [==============================] - 2s 156ms/step - loss: 0.0034 - val_loss: 0.0018\n",
      "Epoch 13/100\n",
      "12/12 [==============================] - 2s 159ms/step - loss: 0.0033 - val_loss: 0.0019\n",
      "Epoch 14/100\n",
      "12/12 [==============================] - 2s 150ms/step - loss: 0.0032 - val_loss: 0.0019\n",
      "Epoch 15/100\n",
      "12/12 [==============================] - 2s 181ms/step - loss: 0.0030 - val_loss: 0.0020\n",
      "Epoch 16/100\n",
      "12/12 [==============================] - 2s 154ms/step - loss: 0.0031 - val_loss: 0.0020\n",
      "Epoch 17/100\n",
      "12/12 [==============================] - 2s 153ms/step - loss: 0.0033 - val_loss: 0.0018\n",
      "Epoch 18/100\n",
      "12/12 [==============================] - 2s 181ms/step - loss: 0.0028 - val_loss: 0.0017\n",
      "Epoch 19/100\n",
      "12/12 [==============================] - 2s 152ms/step - loss: 0.0028 - val_loss: 0.0018\n",
      "Epoch 20/100\n",
      "12/12 [==============================] - 2s 177ms/step - loss: 0.0031 - val_loss: 0.0014\n",
      "Epoch 21/100\n",
      "12/12 [==============================] - 2s 197ms/step - loss: 0.0026 - val_loss: 0.0017\n",
      "Epoch 22/100\n",
      "12/12 [==============================] - 3s 216ms/step - loss: 0.0024 - val_loss: 0.0013\n",
      "Epoch 23/100\n",
      "12/12 [==============================] - 2s 181ms/step - loss: 0.0023 - val_loss: 0.0012\n",
      "Epoch 24/100\n",
      "12/12 [==============================] - 2s 160ms/step - loss: 0.0023 - val_loss: 0.0016\n",
      "Epoch 25/100\n",
      "12/12 [==============================] - 2s 149ms/step - loss: 0.0023 - val_loss: 0.0011\n",
      "Epoch 26/100\n",
      "12/12 [==============================] - 2s 150ms/step - loss: 0.0023 - val_loss: 0.0012\n",
      "Epoch 27/100\n",
      "12/12 [==============================] - 2s 150ms/step - loss: 0.0020 - val_loss: 0.0010\n",
      "Epoch 28/100\n",
      "12/12 [==============================] - 2s 150ms/step - loss: 0.0020 - val_loss: 0.0021\n",
      "Epoch 29/100\n",
      "12/12 [==============================] - 2s 162ms/step - loss: 0.0024 - val_loss: 0.0018\n",
      "Epoch 30/100\n",
      "12/12 [==============================] - 2s 154ms/step - loss: 0.0023 - val_loss: 0.0010\n",
      "Epoch 31/100\n",
      "12/12 [==============================] - 3s 244ms/step - loss: 0.0021 - val_loss: 9.9200e-04\n",
      "Epoch 32/100\n",
      "12/12 [==============================] - 3s 224ms/step - loss: 0.0024 - val_loss: 0.0016\n",
      "Epoch 33/100\n",
      "12/12 [==============================] - 2s 202ms/step - loss: 0.0018 - val_loss: 9.8860e-04\n",
      "Epoch 34/100\n",
      "12/12 [==============================] - 2s 168ms/step - loss: 0.0018 - val_loss: 9.4847e-04\n",
      "Epoch 35/100\n",
      "12/12 [==============================] - 2s 154ms/step - loss: 0.0018 - val_loss: 9.5119e-04\n",
      "Epoch 36/100\n",
      "12/12 [==============================] - 2s 151ms/step - loss: 0.0017 - val_loss: 0.0013\n",
      "Epoch 37/100\n",
      "12/12 [==============================] - 2s 156ms/step - loss: 0.0018 - val_loss: 8.5702e-04\n",
      "Epoch 38/100\n",
      "12/12 [==============================] - 2s 169ms/step - loss: 0.0017 - val_loss: 8.9222e-04\n",
      "Epoch 39/100\n",
      "12/12 [==============================] - 2s 176ms/step - loss: 0.0017 - val_loss: 0.0011\n",
      "Epoch 40/100\n",
      "12/12 [==============================] - 2s 156ms/step - loss: 0.0017 - val_loss: 7.8908e-04\n",
      "Epoch 41/100\n",
      "12/12 [==============================] - 2s 189ms/step - loss: 0.0017 - val_loss: 9.8169e-04\n",
      "Epoch 42/100\n",
      "12/12 [==============================] - 2s 166ms/step - loss: 0.0017 - val_loss: 0.0013\n",
      "Epoch 43/100\n",
      "12/12 [==============================] - 2s 175ms/step - loss: 0.0024 - val_loss: 0.0021\n",
      "Epoch 44/100\n",
      "12/12 [==============================] - 2s 211ms/step - loss: 0.0019 - val_loss: 0.0012\n",
      "Epoch 45/100\n",
      "12/12 [==============================] - 2s 156ms/step - loss: 0.0017 - val_loss: 8.7171e-04\n",
      "Epoch 46/100\n",
      "12/12 [==============================] - 2s 170ms/step - loss: 0.0015 - val_loss: 7.2366e-04\n",
      "Epoch 47/100\n",
      "12/12 [==============================] - 2s 171ms/step - loss: 0.0015 - val_loss: 7.2962e-04\n",
      "Epoch 48/100\n",
      "12/12 [==============================] - 2s 158ms/step - loss: 0.0015 - val_loss: 6.9577e-04\n",
      "Epoch 49/100\n",
      "12/12 [==============================] - 2s 153ms/step - loss: 0.0014 - val_loss: 0.0014\n",
      "Epoch 50/100\n",
      "12/12 [==============================] - 2s 156ms/step - loss: 0.0017 - val_loss: 7.0846e-04\n",
      "Epoch 51/100\n",
      "12/12 [==============================] - 2s 152ms/step - loss: 0.0014 - val_loss: 7.9080e-04\n",
      "Epoch 52/100\n",
      "12/12 [==============================] - 2s 180ms/step - loss: 0.0014 - val_loss: 6.9548e-04\n",
      "Epoch 53/100\n",
      "12/12 [==============================] - 2s 160ms/step - loss: 0.0013 - val_loss: 6.7097e-04\n",
      "Epoch 54/100\n",
      "12/12 [==============================] - 2s 184ms/step - loss: 0.0013 - val_loss: 9.6739e-04\n",
      "Epoch 55/100\n",
      "12/12 [==============================] - 3s 223ms/step - loss: 0.0014 - val_loss: 7.0716e-04\n",
      "Epoch 56/100\n",
      "12/12 [==============================] - 2s 155ms/step - loss: 0.0012 - val_loss: 6.3288e-04\n",
      "Epoch 57/100\n",
      "12/12 [==============================] - 2s 159ms/step - loss: 0.0012 - val_loss: 6.5883e-04\n",
      "Epoch 58/100\n",
      "12/12 [==============================] - 2s 159ms/step - loss: 0.0012 - val_loss: 7.7211e-04\n",
      "Epoch 59/100\n",
      "12/12 [==============================] - 2s 152ms/step - loss: 0.0013 - val_loss: 6.0894e-04\n",
      "Epoch 60/100\n",
      "12/12 [==============================] - 2s 155ms/step - loss: 0.0013 - val_loss: 7.1592e-04\n",
      "Epoch 61/100\n",
      "12/12 [==============================] - 2s 156ms/step - loss: 0.0013 - val_loss: 6.2771e-04\n",
      "Epoch 62/100\n",
      "12/12 [==============================] - 2s 155ms/step - loss: 0.0011 - val_loss: 6.5260e-04\n",
      "Epoch 63/100\n",
      "12/12 [==============================] - 2s 211ms/step - loss: 0.0011 - val_loss: 5.9387e-04\n",
      "Epoch 64/100\n",
      "12/12 [==============================] - 2s 178ms/step - loss: 0.0012 - val_loss: 7.3714e-04\n",
      "Epoch 65/100\n",
      "12/12 [==============================] - 2s 195ms/step - loss: 0.0012 - val_loss: 8.6274e-04\n",
      "Epoch 66/100\n",
      "12/12 [==============================] - 3s 258ms/step - loss: 0.0011 - val_loss: 5.5444e-04\n",
      "Epoch 67/100\n",
      "12/12 [==============================] - 3s 218ms/step - loss: 0.0010 - val_loss: 6.8742e-04\n",
      "Epoch 68/100\n",
      "12/12 [==============================] - 3s 212ms/step - loss: 0.0011 - val_loss: 6.7429e-04\n",
      "Epoch 69/100\n",
      "12/12 [==============================] - 3s 291ms/step - loss: 0.0010 - val_loss: 8.2697e-04\n",
      "Epoch 70/100\n",
      "12/12 [==============================] - 7s 643ms/step - loss: 0.0012 - val_loss: 5.5018e-04\n",
      "Epoch 71/100\n",
      "12/12 [==============================] - 3s 255ms/step - loss: 0.0010 - val_loss: 0.0010\n",
      "Epoch 72/100\n",
      "12/12 [==============================] - 3s 237ms/step - loss: 0.0012 - val_loss: 6.4596e-04\n",
      "Epoch 73/100\n",
      "12/12 [==============================] - 3s 235ms/step - loss: 0.0012 - val_loss: 5.3466e-04\n",
      "Epoch 74/100\n",
      "12/12 [==============================] - 2s 186ms/step - loss: 0.0010 - val_loss: 5.3934e-04\n",
      "Epoch 75/100\n",
      "12/12 [==============================] - 2s 183ms/step - loss: 9.5536e-04 - val_loss: 5.3371e-04\n",
      "Epoch 76/100\n",
      "12/12 [==============================] - 2s 183ms/step - loss: 0.0010 - val_loss: 6.1782e-04\n",
      "Epoch 77/100\n",
      "12/12 [==============================] - 2s 166ms/step - loss: 9.4790e-04 - val_loss: 8.7370e-04\n",
      "Epoch 78/100\n",
      "12/12 [==============================] - 2s 172ms/step - loss: 0.0010 - val_loss: 5.4254e-04\n",
      "Epoch 79/100\n"
     ]
    },
    {
     "name": "stdout",
     "output_type": "stream",
     "text": [
      "12/12 [==============================] - 3s 222ms/step - loss: 0.0010 - val_loss: 5.4486e-04\n",
      "Epoch 80/100\n",
      "12/12 [==============================] - 3s 232ms/step - loss: 0.0012 - val_loss: 5.3977e-04\n",
      "Epoch 81/100\n",
      "12/12 [==============================] - 2s 206ms/step - loss: 0.0012 - val_loss: 5.2235e-04\n",
      "Epoch 82/100\n",
      "12/12 [==============================] - 2s 171ms/step - loss: 9.8965e-04 - val_loss: 5.4024e-04\n",
      "Epoch 83/100\n",
      "12/12 [==============================] - 2s 171ms/step - loss: 9.4447e-04 - val_loss: 7.1257e-04\n",
      "Epoch 84/100\n",
      "12/12 [==============================] - 2s 158ms/step - loss: 9.4275e-04 - val_loss: 5.1137e-04\n",
      "Epoch 85/100\n",
      "12/12 [==============================] - 2s 160ms/step - loss: 9.5413e-04 - val_loss: 6.3152e-04\n",
      "Epoch 86/100\n",
      "12/12 [==============================] - 2s 158ms/step - loss: 0.0010 - val_loss: 4.9874e-04\n",
      "Epoch 87/100\n",
      "12/12 [==============================] - 2s 158ms/step - loss: 8.8472e-04 - val_loss: 5.0180e-04\n",
      "Epoch 88/100\n",
      "12/12 [==============================] - 2s 185ms/step - loss: 9.0186e-04 - val_loss: 7.6696e-04\n",
      "Epoch 89/100\n",
      "12/12 [==============================] - 2s 159ms/step - loss: 0.0011 - val_loss: 6.5460e-04\n",
      "Epoch 90/100\n",
      "12/12 [==============================] - 2s 159ms/step - loss: 0.0012 - val_loss: 0.0013\n",
      "Epoch 91/100\n",
      "12/12 [==============================] - 2s 165ms/step - loss: 0.0013 - val_loss: 0.0012\n",
      "Epoch 92/100\n",
      "12/12 [==============================] - 3s 220ms/step - loss: 0.0010 - val_loss: 4.9345e-04\n",
      "Epoch 93/100\n",
      "12/12 [==============================] - 2s 166ms/step - loss: 8.8045e-04 - val_loss: 5.2191e-04\n",
      "Epoch 94/100\n",
      "12/12 [==============================] - 2s 161ms/step - loss: 8.7135e-04 - val_loss: 4.7015e-04\n",
      "Epoch 95/100\n",
      "12/12 [==============================] - 2s 162ms/step - loss: 8.7093e-04 - val_loss: 5.3103e-04\n",
      "Epoch 96/100\n",
      "12/12 [==============================] - 2s 185ms/step - loss: 9.0518e-04 - val_loss: 4.5969e-04\n",
      "Epoch 97/100\n",
      "12/12 [==============================] - 2s 156ms/step - loss: 8.4162e-04 - val_loss: 4.6184e-04\n",
      "Epoch 98/100\n",
      "12/12 [==============================] - 2s 158ms/step - loss: 8.3156e-04 - val_loss: 4.8995e-04\n",
      "Epoch 99/100\n",
      "12/12 [==============================] - 2s 159ms/step - loss: 0.0010 - val_loss: 4.4760e-04\n",
      "Epoch 100/100\n",
      "12/12 [==============================] - 2s 187ms/step - loss: 8.9508e-04 - val_loss: 5.3036e-04\n"
     ]
    },
    {
     "data": {
      "text/plain": [
       "<keras.callbacks.History at 0x7f922812b550>"
      ]
     },
     "execution_count": 128,
     "metadata": {},
     "output_type": "execute_result"
    }
   ],
   "source": [
    "model.fit(X_train,y_train,validation_data=(X_test,y_test),epochs=100,batch_size=64,verbose=1)"
   ]
  },
  {
   "cell_type": "markdown",
   "id": "67586861",
   "metadata": {},
   "source": [
    "Now lets do the predictions and check performance metrics"
   ]
  },
  {
   "cell_type": "code",
   "execution_count": 129,
   "id": "39bb8d34",
   "metadata": {},
   "outputs": [
    {
     "name": "stdout",
     "output_type": "stream",
     "text": [
      "23/23 [==============================] - 2s 28ms/step\n",
      "11/11 [==============================] - 0s 28ms/step\n"
     ]
    }
   ],
   "source": [
    "train_predict=model.predict(X_train)\n",
    "test_predict=model.predict(X_test)"
   ]
  },
  {
   "cell_type": "markdown",
   "id": "597b54b4",
   "metadata": {},
   "source": [
    "We will transform back to the original form"
   ]
  },
  {
   "cell_type": "code",
   "execution_count": 130,
   "id": "8fdcb497",
   "metadata": {},
   "outputs": [],
   "source": [
    "train_predict=scaler.inverse_transform(train_predict)\n",
    "test_predict=scaler.inverse_transform(test_predict)"
   ]
  },
  {
   "cell_type": "markdown",
   "id": "dfe70390",
   "metadata": {},
   "source": [
    "We will now calculate the RMSE performance metrics"
   ]
  },
  {
   "cell_type": "code",
   "execution_count": 131,
   "id": "8e71d7e0",
   "metadata": {},
   "outputs": [
    {
     "data": {
      "text/plain": [
       "717.0725364330297"
      ]
     },
     "execution_count": 131,
     "metadata": {},
     "output_type": "execute_result"
    }
   ],
   "source": [
    "from sklearn.metrics import mean_squared_error\n",
    "math.sqrt(mean_squared_error(y_train,train_predict))"
   ]
  },
  {
   "cell_type": "code",
   "execution_count": 132,
   "id": "c7975fd5",
   "metadata": {},
   "outputs": [
    {
     "data": {
      "text/plain": [
       "743.8078221376983"
      ]
     },
     "execution_count": 132,
     "metadata": {},
     "output_type": "execute_result"
    }
   ],
   "source": [
    "math.sqrt(mean_squared_error(y_test,test_predict))"
   ]
  },
  {
   "cell_type": "markdown",
   "id": "cbc91da1",
   "metadata": {},
   "source": [
    "## Predictions Visualization"
   ]
  },
  {
   "cell_type": "code",
   "execution_count": 133,
   "id": "43c4e7ae",
   "metadata": {},
   "outputs": [
    {
     "data": {
      "image/png": "[encoded data removed]",
      "text/plain": [
       "<Figure size 432x288 with 1 Axes>"
      ]
     },
     "metadata": {
      "needs_background": "light"
     },
     "output_type": "display_data"
    }
   ],
   "source": [
    "#Shift Train predictions for plotting\n",
    "look_back=100\n",
    "trainPredictPlot=np.empty_like(df1)\n",
    "trainPredictPlot[:,:]=np.nan\n",
    "trainPredictPlot[look_back:len(train_predict)+look_back,:]=train_predict\n",
    "\n",
    "#Shift Test predictions for plotting\n",
    "testPredictPlot=np.empty_like(df1)\n",
    "testPredictPlot[:,:]=np.nan\n",
    "testPredictPlot[len(train_predict)+(look_back*2)+1:len(df1)-1,:]=test_predict\n",
    "\n",
    "#Plot baseline and predictions\n",
    "plt.plot(scaler.inverse_transform(df1))\n",
    "plt.plot(trainPredictPlot)\n",
    "plt.plot(testPredictPlot)\n",
    "plt.show()"
   ]
  },
  {
   "cell_type": "markdown",
   "id": "aa267388",
   "metadata": {},
   "source": [
    "## Predictions of next 30 days"
   ]
  },
  {
   "cell_type": "code",
   "execution_count": 134,
   "id": "c07ec6eb",
   "metadata": {},
   "outputs": [
    {
     "data": {
      "text/plain": [
       "440"
      ]
     },
     "execution_count": 134,
     "metadata": {},
     "output_type": "execute_result"
    }
   ],
   "source": [
    "len(test_data)"
   ]
  },
  {
   "cell_type": "markdown",
   "id": "9fa46a23",
   "metadata": {},
   "source": [
    "We will now take the latest 100 days "
   ]
  },
  {
   "cell_type": "code",
   "execution_count": 135,
   "id": "11e61531",
   "metadata": {},
   "outputs": [
    {
     "data": {
      "text/plain": [
       "(1, 100)"
      ]
     },
     "execution_count": 135,
     "metadata": {},
     "output_type": "execute_result"
    }
   ],
   "source": [
    "x_input=test_data[340:].reshape(1,-1)\n",
    "x_input.shape"
   ]
  },
  {
   "cell_type": "markdown",
   "id": "71342d41",
   "metadata": {},
   "source": [
    "We will now convert this data into a list"
   ]
  },
  {
   "cell_type": "code",
   "execution_count": 136,
   "id": "4b4cc82c",
   "metadata": {},
   "outputs": [],
   "source": [
    "temp_input=list(x_input)\n",
    "temp_input=temp_input[0].tolist()"
   ]
  },
  {
   "cell_type": "code",
   "execution_count": 137,
   "id": "ad9cffec",
   "metadata": {},
   "outputs": [
    {
     "data": {
      "text/plain": [
       "[0.7796823326657041,\n",
       " 0.7740928781033118,\n",
       " 0.7474032325678885,\n",
       " 0.7376527396090486,\n",
       " 0.7341282779822069,\n",
       " 0.7373111618302357,\n",
       " 0.7615166053379292,\n",
       " 0.799043582219324,\n",
       " 0.7722918316332077,\n",
       " 0.7589081932088129,\n",
       " 0.7651031720154642,\n",
       " 0.7882683559240455,\n",
       " 0.7860636266244354,\n",
       " 0.77530392659183,\n",
       " 0.7594981911903986,\n",
       " 0.7567189901718756,\n",
       " 0.7214588476407844,\n",
       " 0.729951713323086,\n",
       " 0.7388948406229137,\n",
       " 0.7397953638579657,\n",
       " 0.708354681944509,\n",
       " 0.7119412486220442,\n",
       " 0.6769140000310525,\n",
       " 0.6762774232614468,\n",
       " 0.6555964413805953,\n",
       " 0.6619932616019997,\n",
       " 0.6519167171270204,\n",
       " 0.656077755523468,\n",
       " 0.671805859611533,\n",
       " 0.681913456611859,\n",
       " 0.6759824242706538,\n",
       " 0.6679863989938981,\n",
       " 0.6761066343720403,\n",
       " 0.6736224323443103,\n",
       " 0.6633129939292313,\n",
       " 0.6585619575511978,\n",
       " 0.6669771919201328,\n",
       " 0.6777058394273914,\n",
       " 0.6943655192758551,\n",
       " 0.704116012234695,\n",
       " 0.7000947102023072,\n",
       " 0.7168630738894841,\n",
       " 0.7285698759451611,\n",
       " 0.7187262254102815,\n",
       " 0.7383358951666745,\n",
       " 0.758116353812474,\n",
       " 0.7457108699364976,\n",
       " 0.7527132144021613,\n",
       " 0.741798251742823,\n",
       " 0.7413945689133168,\n",
       " 0.733134597171115,\n",
       " 0.7097520455851072,\n",
       " 0.7056375859766795,\n",
       " 0.6893505364323753,\n",
       " 0.6663250888878538,\n",
       " 0.6745229555793626,\n",
       " 0.6903131647181207,\n",
       " 0.6986041889856693,\n",
       " 0.7109009890229323,\n",
       " 0.7164749173226512,\n",
       " 0.7004052354557735,\n",
       " 0.6851273929852346,\n",
       " 0.6812147747915598,\n",
       " 0.6679553464685515,\n",
       " 0.6873321222848447,\n",
       " 0.6867110717779124,\n",
       " 0.6861210737963266,\n",
       " 0.704364432437468,\n",
       " 0.708354681944509,\n",
       " 0.7070815284052976,\n",
       " 0.7144875557004673,\n",
       " 0.7321098638346764,\n",
       " 0.725029888055646,\n",
       " 0.7142546617603678,\n",
       " 0.7044420637508346,\n",
       " 0.7140528203456147,\n",
       " 0.7062120576955921,\n",
       " 0.7168630738894841,\n",
       " 0.7168475476268108,\n",
       " 0.719145434502461,\n",
       " 0.7185088577328553,\n",
       " 0.7372801093048893,\n",
       " 0.7523716366233484,\n",
       " 0.772353936683901,\n",
       " 0.7771670781126276,\n",
       " 0.7693884205132984,\n",
       " 0.8019625196019067,\n",
       " 0.7975375347400129,\n",
       " 0.7787662831679787,\n",
       " 0.7814057478224417,\n",
       " 0.8008756812147748,\n",
       " 0.8031269893024051,\n",
       " 0.7766702377070815,\n",
       " 0.7904730852236559,\n",
       " 0.8209977176393872,\n",
       " 0.8302358439300077,\n",
       " 0.8464452621609453,\n",
       " 0.8525160308662103,\n",
       " 0.8352042479854676,\n",
       " 0.8051919822379554]"
      ]
     },
     "execution_count": 137,
     "metadata": {},
     "output_type": "execute_result"
    }
   ],
   "source": [
    "temp_input"
   ]
  },
  {
   "cell_type": "code",
   "execution_count": 138,
   "id": "1f9f0977",
   "metadata": {},
   "outputs": [
    {
     "name": "stdout",
     "output_type": "stream",
     "text": [
      "[0.85376775]\n",
      "101\n",
      "1 day input [0.77409288 0.74740323 0.73765274 0.73412828 0.73731116 0.76151661\n",
      " 0.79904358 0.77229183 0.75890819 0.76510317 0.78826836 0.78606363\n",
      " 0.77530393 0.75949819 0.75671899 0.72145885 0.72995171 0.73889484\n",
      " 0.73979536 0.70835468 0.71194125 0.676914   0.67627742 0.65559644\n",
      " 0.66199326 0.65191672 0.65607776 0.67180586 0.68191346 0.67598242\n",
      " 0.6679864  0.67610663 0.67362243 0.66331299 0.65856196 0.66697719\n",
      " 0.67770584 0.69436552 0.70411601 0.70009471 0.71686307 0.72856988\n",
      " 0.71872623 0.7383359  0.75811635 0.74571087 0.75271321 0.74179825\n",
      " 0.74139457 0.7331346  0.70975205 0.70563759 0.68935054 0.66632509\n",
      " 0.67452296 0.69031316 0.69860419 0.71090099 0.71647492 0.70040524\n",
      " 0.68512739 0.68121477 0.66795535 0.68733212 0.68671107 0.68612107\n",
      " 0.70436443 0.70835468 0.70708153 0.71448756 0.73210986 0.72502989\n",
      " 0.71425466 0.70444206 0.71405282 0.70621206 0.71686307 0.71684755\n",
      " 0.71914543 0.71850886 0.73728011 0.75237164 0.77235394 0.77716708\n",
      " 0.76938842 0.80196252 0.79753753 0.77876628 0.78140575 0.80087568\n",
      " 0.80312699 0.77667024 0.79047309 0.82099772 0.83023584 0.84644526\n",
      " 0.85251603 0.83520425 0.80519198 0.85376775]\n",
      "1 day input [[0.84485304]]\n",
      "2 day input [0.74740323 0.73765274 0.73412828 0.73731116 0.76151661 0.79904358\n",
      " 0.77229183 0.75890819 0.76510317 0.78826836 0.78606363 0.77530393\n",
      " 0.75949819 0.75671899 0.72145885 0.72995171 0.73889484 0.73979536\n",
      " 0.70835468 0.71194125 0.676914   0.67627742 0.65559644 0.66199326\n",
      " 0.65191672 0.65607776 0.67180586 0.68191346 0.67598242 0.6679864\n",
      " 0.67610663 0.67362243 0.66331299 0.65856196 0.66697719 0.67770584\n",
      " 0.69436552 0.70411601 0.70009471 0.71686307 0.72856988 0.71872623\n",
      " 0.7383359  0.75811635 0.74571087 0.75271321 0.74179825 0.74139457\n",
      " 0.7331346  0.70975205 0.70563759 0.68935054 0.66632509 0.67452296\n",
      " 0.69031316 0.69860419 0.71090099 0.71647492 0.70040524 0.68512739\n",
      " 0.68121477 0.66795535 0.68733212 0.68671107 0.68612107 0.70436443\n",
      " 0.70835468 0.70708153 0.71448756 0.73210986 0.72502989 0.71425466\n",
      " 0.70444206 0.71405282 0.70621206 0.71686307 0.71684755 0.71914543\n",
      " 0.71850886 0.73728011 0.75237164 0.77235394 0.77716708 0.76938842\n",
      " 0.80196252 0.79753753 0.77876628 0.78140575 0.80087568 0.80312699\n",
      " 0.77667024 0.79047309 0.82099772 0.83023584 0.84644526 0.85251603\n",
      " 0.83520425 0.80519198 0.85376775 0.84485304]\n",
      "2 day input [[0.8426843]]\n",
      "3 day input [0.73765274 0.73412828 0.73731116 0.76151661 0.79904358 0.77229183\n",
      " 0.75890819 0.76510317 0.78826836 0.78606363 0.77530393 0.75949819\n",
      " 0.75671899 0.72145885 0.72995171 0.73889484 0.73979536 0.70835468\n",
      " 0.71194125 0.676914   0.67627742 0.65559644 0.66199326 0.65191672\n",
      " 0.65607776 0.67180586 0.68191346 0.67598242 0.6679864  0.67610663\n",
      " 0.67362243 0.66331299 0.65856196 0.66697719 0.67770584 0.69436552\n",
      " 0.70411601 0.70009471 0.71686307 0.72856988 0.71872623 0.7383359\n",
      " 0.75811635 0.74571087 0.75271321 0.74179825 0.74139457 0.7331346\n",
      " 0.70975205 0.70563759 0.68935054 0.66632509 0.67452296 0.69031316\n",
      " 0.69860419 0.71090099 0.71647492 0.70040524 0.68512739 0.68121477\n",
      " 0.66795535 0.68733212 0.68671107 0.68612107 0.70436443 0.70835468\n",
      " 0.70708153 0.71448756 0.73210986 0.72502989 0.71425466 0.70444206\n",
      " 0.71405282 0.70621206 0.71686307 0.71684755 0.71914543 0.71850886\n",
      " 0.73728011 0.75237164 0.77235394 0.77716708 0.76938842 0.80196252\n",
      " 0.79753753 0.77876628 0.78140575 0.80087568 0.80312699 0.77667024\n",
      " 0.79047309 0.82099772 0.83023584 0.84644526 0.85251603 0.83520425\n",
      " 0.80519198 0.85376775 0.84485304 0.84268433]\n",
      "3 day input [[0.8457374]]\n",
      "4 day input [0.73412828 0.73731116 0.76151661 0.79904358 0.77229183 0.75890819\n",
      " 0.76510317 0.78826836 0.78606363 0.77530393 0.75949819 0.75671899\n",
      " 0.72145885 0.72995171 0.73889484 0.73979536 0.70835468 0.71194125\n",
      " 0.676914   0.67627742 0.65559644 0.66199326 0.65191672 0.65607776\n",
      " 0.67180586 0.68191346 0.67598242 0.6679864  0.67610663 0.67362243\n",
      " 0.66331299 0.65856196 0.66697719 0.67770584 0.69436552 0.70411601\n",
      " 0.70009471 0.71686307 0.72856988 0.71872623 0.7383359  0.75811635\n",
      " 0.74571087 0.75271321 0.74179825 0.74139457 0.7331346  0.70975205\n",
      " 0.70563759 0.68935054 0.66632509 0.67452296 0.69031316 0.69860419\n",
      " 0.71090099 0.71647492 0.70040524 0.68512739 0.68121477 0.66795535\n",
      " 0.68733212 0.68671107 0.68612107 0.70436443 0.70835468 0.70708153\n",
      " 0.71448756 0.73210986 0.72502989 0.71425466 0.70444206 0.71405282\n",
      " 0.70621206 0.71686307 0.71684755 0.71914543 0.71850886 0.73728011\n",
      " 0.75237164 0.77235394 0.77716708 0.76938842 0.80196252 0.79753753\n",
      " 0.77876628 0.78140575 0.80087568 0.80312699 0.77667024 0.79047309\n",
      " 0.82099772 0.83023584 0.84644526 0.85251603 0.83520425 0.80519198\n",
      " 0.85376775 0.84485304 0.84268433 0.8457374 ]\n",
      "4 day input [[0.85169977]]\n",
      "5 day input [0.73731116 0.76151661 0.79904358 0.77229183 0.75890819 0.76510317\n",
      " 0.78826836 0.78606363 0.77530393 0.75949819 0.75671899 0.72145885\n",
      " 0.72995171 0.73889484 0.73979536 0.70835468 0.71194125 0.676914\n",
      " 0.67627742 0.65559644 0.66199326 0.65191672 0.65607776 0.67180586\n",
      " 0.68191346 0.67598242 0.6679864  0.67610663 0.67362243 0.66331299\n",
      " 0.65856196 0.66697719 0.67770584 0.69436552 0.70411601 0.70009471\n",
      " 0.71686307 0.72856988 0.71872623 0.7383359  0.75811635 0.74571087\n",
      " 0.75271321 0.74179825 0.74139457 0.7331346  0.70975205 0.70563759\n",
      " 0.68935054 0.66632509 0.67452296 0.69031316 0.69860419 0.71090099\n",
      " 0.71647492 0.70040524 0.68512739 0.68121477 0.66795535 0.68733212\n",
      " 0.68671107 0.68612107 0.70436443 0.70835468 0.70708153 0.71448756\n",
      " 0.73210986 0.72502989 0.71425466 0.70444206 0.71405282 0.70621206\n",
      " 0.71686307 0.71684755 0.71914543 0.71850886 0.73728011 0.75237164\n",
      " 0.77235394 0.77716708 0.76938842 0.80196252 0.79753753 0.77876628\n",
      " 0.78140575 0.80087568 0.80312699 0.77667024 0.79047309 0.82099772\n",
      " 0.83023584 0.84644526 0.85251603 0.83520425 0.80519198 0.85376775\n",
      " 0.84485304 0.84268433 0.8457374  0.85169977]\n",
      "5 day input [[0.8588861]]\n",
      "6 day input [0.76151661 0.79904358 0.77229183 0.75890819 0.76510317 0.78826836\n",
      " 0.78606363 0.77530393 0.75949819 0.75671899 0.72145885 0.72995171\n",
      " 0.73889484 0.73979536 0.70835468 0.71194125 0.676914   0.67627742\n",
      " 0.65559644 0.66199326 0.65191672 0.65607776 0.67180586 0.68191346\n",
      " 0.67598242 0.6679864  0.67610663 0.67362243 0.66331299 0.65856196\n",
      " 0.66697719 0.67770584 0.69436552 0.70411601 0.70009471 0.71686307\n",
      " 0.72856988 0.71872623 0.7383359  0.75811635 0.74571087 0.75271321\n",
      " 0.74179825 0.74139457 0.7331346  0.70975205 0.70563759 0.68935054\n",
      " 0.66632509 0.67452296 0.69031316 0.69860419 0.71090099 0.71647492\n",
      " 0.70040524 0.68512739 0.68121477 0.66795535 0.68733212 0.68671107\n",
      " 0.68612107 0.70436443 0.70835468 0.70708153 0.71448756 0.73210986\n",
      " 0.72502989 0.71425466 0.70444206 0.71405282 0.70621206 0.71686307\n",
      " 0.71684755 0.71914543 0.71850886 0.73728011 0.75237164 0.77235394\n",
      " 0.77716708 0.76938842 0.80196252 0.79753753 0.77876628 0.78140575\n",
      " 0.80087568 0.80312699 0.77667024 0.79047309 0.82099772 0.83023584\n",
      " 0.84644526 0.85251603 0.83520425 0.80519198 0.85376775 0.84485304\n",
      " 0.84268433 0.8457374  0.85169977 0.85888612]\n",
      "6 day input [[0.86636126]]\n",
      "7 day input [0.79904358 0.77229183 0.75890819 0.76510317 0.78826836 0.78606363\n",
      " 0.77530393 0.75949819 0.75671899 0.72145885 0.72995171 0.73889484\n",
      " 0.73979536 0.70835468 0.71194125 0.676914   0.67627742 0.65559644\n",
      " 0.66199326 0.65191672 0.65607776 0.67180586 0.68191346 0.67598242\n",
      " 0.6679864  0.67610663 0.67362243 0.66331299 0.65856196 0.66697719\n",
      " 0.67770584 0.69436552 0.70411601 0.70009471 0.71686307 0.72856988\n",
      " 0.71872623 0.7383359  0.75811635 0.74571087 0.75271321 0.74179825\n",
      " 0.74139457 0.7331346  0.70975205 0.70563759 0.68935054 0.66632509\n",
      " 0.67452296 0.69031316 0.69860419 0.71090099 0.71647492 0.70040524\n",
      " 0.68512739 0.68121477 0.66795535 0.68733212 0.68671107 0.68612107\n",
      " 0.70436443 0.70835468 0.70708153 0.71448756 0.73210986 0.72502989\n",
      " 0.71425466 0.70444206 0.71405282 0.70621206 0.71686307 0.71684755\n",
      " 0.71914543 0.71850886 0.73728011 0.75237164 0.77235394 0.77716708\n",
      " 0.76938842 0.80196252 0.79753753 0.77876628 0.78140575 0.80087568\n",
      " 0.80312699 0.77667024 0.79047309 0.82099772 0.83023584 0.84644526\n",
      " 0.85251603 0.83520425 0.80519198 0.85376775 0.84485304 0.84268433\n",
      " 0.8457374  0.85169977 0.85888612 0.86636126]\n",
      "7 day input [[0.8736825]]\n",
      "8 day input [0.77229183 0.75890819 0.76510317 0.78826836 0.78606363 0.77530393\n",
      " 0.75949819 0.75671899 0.72145885 0.72995171 0.73889484 0.73979536\n",
      " 0.70835468 0.71194125 0.676914   0.67627742 0.65559644 0.66199326\n",
      " 0.65191672 0.65607776 0.67180586 0.68191346 0.67598242 0.6679864\n",
      " 0.67610663 0.67362243 0.66331299 0.65856196 0.66697719 0.67770584\n",
      " 0.69436552 0.70411601 0.70009471 0.71686307 0.72856988 0.71872623\n",
      " 0.7383359  0.75811635 0.74571087 0.75271321 0.74179825 0.74139457\n",
      " 0.7331346  0.70975205 0.70563759 0.68935054 0.66632509 0.67452296\n",
      " 0.69031316 0.69860419 0.71090099 0.71647492 0.70040524 0.68512739\n",
      " 0.68121477 0.66795535 0.68733212 0.68671107 0.68612107 0.70436443\n",
      " 0.70835468 0.70708153 0.71448756 0.73210986 0.72502989 0.71425466\n",
      " 0.70444206 0.71405282 0.70621206 0.71686307 0.71684755 0.71914543\n",
      " 0.71850886 0.73728011 0.75237164 0.77235394 0.77716708 0.76938842\n",
      " 0.80196252 0.79753753 0.77876628 0.78140575 0.80087568 0.80312699\n",
      " 0.77667024 0.79047309 0.82099772 0.83023584 0.84644526 0.85251603\n",
      " 0.83520425 0.80519198 0.85376775 0.84485304 0.84268433 0.8457374\n",
      " 0.85169977 0.85888612 0.86636126 0.8736825 ]\n",
      "8 day input [[0.88066566]]\n",
      "9 day input [0.75890819 0.76510317 0.78826836 0.78606363 0.77530393 0.75949819\n",
      " 0.75671899 0.72145885 0.72995171 0.73889484 0.73979536 0.70835468\n",
      " 0.71194125 0.676914   0.67627742 0.65559644 0.66199326 0.65191672\n",
      " 0.65607776 0.67180586 0.68191346 0.67598242 0.6679864  0.67610663\n",
      " 0.67362243 0.66331299 0.65856196 0.66697719 0.67770584 0.69436552\n",
      " 0.70411601 0.70009471 0.71686307 0.72856988 0.71872623 0.7383359\n",
      " 0.75811635 0.74571087 0.75271321 0.74179825 0.74139457 0.7331346\n",
      " 0.70975205 0.70563759 0.68935054 0.66632509 0.67452296 0.69031316\n",
      " 0.69860419 0.71090099 0.71647492 0.70040524 0.68512739 0.68121477\n",
      " 0.66795535 0.68733212 0.68671107 0.68612107 0.70436443 0.70835468\n",
      " 0.70708153 0.71448756 0.73210986 0.72502989 0.71425466 0.70444206\n",
      " 0.71405282 0.70621206 0.71686307 0.71684755 0.71914543 0.71850886\n",
      " 0.73728011 0.75237164 0.77235394 0.77716708 0.76938842 0.80196252\n",
      " 0.79753753 0.77876628 0.78140575 0.80087568 0.80312699 0.77667024\n",
      " 0.79047309 0.82099772 0.83023584 0.84644526 0.85251603 0.83520425\n",
      " 0.80519198 0.85376775 0.84485304 0.84268433 0.8457374  0.85169977\n",
      " 0.85888612 0.86636126 0.8736825  0.88066566]\n",
      "9 day input [[0.88725984]]\n",
      "10 day input [0.76510317 0.78826836 0.78606363 0.77530393 0.75949819 0.75671899\n",
      " 0.72145885 0.72995171 0.73889484 0.73979536 0.70835468 0.71194125\n",
      " 0.676914   0.67627742 0.65559644 0.66199326 0.65191672 0.65607776\n",
      " 0.67180586 0.68191346 0.67598242 0.6679864  0.67610663 0.67362243\n",
      " 0.66331299 0.65856196 0.66697719 0.67770584 0.69436552 0.70411601\n",
      " 0.70009471 0.71686307 0.72856988 0.71872623 0.7383359  0.75811635\n",
      " 0.74571087 0.75271321 0.74179825 0.74139457 0.7331346  0.70975205\n",
      " 0.70563759 0.68935054 0.66632509 0.67452296 0.69031316 0.69860419\n",
      " 0.71090099 0.71647492 0.70040524 0.68512739 0.68121477 0.66795535\n",
      " 0.68733212 0.68671107 0.68612107 0.70436443 0.70835468 0.70708153\n",
      " 0.71448756 0.73210986 0.72502989 0.71425466 0.70444206 0.71405282\n",
      " 0.70621206 0.71686307 0.71684755 0.71914543 0.71850886 0.73728011\n",
      " 0.75237164 0.77235394 0.77716708 0.76938842 0.80196252 0.79753753\n",
      " 0.77876628 0.78140575 0.80087568 0.80312699 0.77667024 0.79047309\n",
      " 0.82099772 0.83023584 0.84644526 0.85251603 0.83520425 0.80519198\n",
      " 0.85376775 0.84485304 0.84268433 0.8457374  0.85169977 0.85888612\n",
      " 0.86636126 0.8736825  0.88066566 0.88725984]\n",
      "10 day input [[0.89349306]]\n",
      "11 day input [0.78826836 0.78606363 0.77530393 0.75949819 0.75671899 0.72145885\n",
      " 0.72995171 0.73889484 0.73979536 0.70835468 0.71194125 0.676914\n",
      " 0.67627742 0.65559644 0.66199326 0.65191672 0.65607776 0.67180586\n",
      " 0.68191346 0.67598242 0.6679864  0.67610663 0.67362243 0.66331299\n",
      " 0.65856196 0.66697719 0.67770584 0.69436552 0.70411601 0.70009471\n",
      " 0.71686307 0.72856988 0.71872623 0.7383359  0.75811635 0.74571087\n",
      " 0.75271321 0.74179825 0.74139457 0.7331346  0.70975205 0.70563759\n",
      " 0.68935054 0.66632509 0.67452296 0.69031316 0.69860419 0.71090099\n",
      " 0.71647492 0.70040524 0.68512739 0.68121477 0.66795535 0.68733212\n",
      " 0.68671107 0.68612107 0.70436443 0.70835468 0.70708153 0.71448756\n",
      " 0.73210986 0.72502989 0.71425466 0.70444206 0.71405282 0.70621206\n",
      " 0.71686307 0.71684755 0.71914543 0.71850886 0.73728011 0.75237164\n",
      " 0.77235394 0.77716708 0.76938842 0.80196252 0.79753753 0.77876628\n",
      " 0.78140575 0.80087568 0.80312699 0.77667024 0.79047309 0.82099772\n",
      " 0.83023584 0.84644526 0.85251603 0.83520425 0.80519198 0.85376775\n",
      " 0.84485304 0.84268433 0.8457374  0.85169977 0.85888612 0.86636126\n",
      " 0.8736825  0.88066566 0.88725984 0.89349306]\n",
      "11 day input [[0.8994464]]\n",
      "12 day input [0.78606363 0.77530393 0.75949819 0.75671899 0.72145885 0.72995171\n",
      " 0.73889484 0.73979536 0.70835468 0.71194125 0.676914   0.67627742\n",
      " 0.65559644 0.66199326 0.65191672 0.65607776 0.67180586 0.68191346\n",
      " 0.67598242 0.6679864  0.67610663 0.67362243 0.66331299 0.65856196\n",
      " 0.66697719 0.67770584 0.69436552 0.70411601 0.70009471 0.71686307\n",
      " 0.72856988 0.71872623 0.7383359  0.75811635 0.74571087 0.75271321\n",
      " 0.74179825 0.74139457 0.7331346  0.70975205 0.70563759 0.68935054\n",
      " 0.66632509 0.67452296 0.69031316 0.69860419 0.71090099 0.71647492\n",
      " 0.70040524 0.68512739 0.68121477 0.66795535 0.68733212 0.68671107\n",
      " 0.68612107 0.70436443 0.70835468 0.70708153 0.71448756 0.73210986\n",
      " 0.72502989 0.71425466 0.70444206 0.71405282 0.70621206 0.71686307\n",
      " 0.71684755 0.71914543 0.71850886 0.73728011 0.75237164 0.77235394\n",
      " 0.77716708 0.76938842 0.80196252 0.79753753 0.77876628 0.78140575\n",
      " 0.80087568 0.80312699 0.77667024 0.79047309 0.82099772 0.83023584\n",
      " 0.84644526 0.85251603 0.83520425 0.80519198 0.85376775 0.84485304\n",
      " 0.84268433 0.8457374  0.85169977 0.85888612 0.86636126 0.8736825\n",
      " 0.88066566 0.88725984 0.89349306 0.89944643]\n"
     ]
    },
    {
     "name": "stdout",
     "output_type": "stream",
     "text": [
      "12 day input [[0.9052292]]\n",
      "13 day input [0.77530393 0.75949819 0.75671899 0.72145885 0.72995171 0.73889484\n",
      " 0.73979536 0.70835468 0.71194125 0.676914   0.67627742 0.65559644\n",
      " 0.66199326 0.65191672 0.65607776 0.67180586 0.68191346 0.67598242\n",
      " 0.6679864  0.67610663 0.67362243 0.66331299 0.65856196 0.66697719\n",
      " 0.67770584 0.69436552 0.70411601 0.70009471 0.71686307 0.72856988\n",
      " 0.71872623 0.7383359  0.75811635 0.74571087 0.75271321 0.74179825\n",
      " 0.74139457 0.7331346  0.70975205 0.70563759 0.68935054 0.66632509\n",
      " 0.67452296 0.69031316 0.69860419 0.71090099 0.71647492 0.70040524\n",
      " 0.68512739 0.68121477 0.66795535 0.68733212 0.68671107 0.68612107\n",
      " 0.70436443 0.70835468 0.70708153 0.71448756 0.73210986 0.72502989\n",
      " 0.71425466 0.70444206 0.71405282 0.70621206 0.71686307 0.71684755\n",
      " 0.71914543 0.71850886 0.73728011 0.75237164 0.77235394 0.77716708\n",
      " 0.76938842 0.80196252 0.79753753 0.77876628 0.78140575 0.80087568\n",
      " 0.80312699 0.77667024 0.79047309 0.82099772 0.83023584 0.84644526\n",
      " 0.85251603 0.83520425 0.80519198 0.85376775 0.84485304 0.84268433\n",
      " 0.8457374  0.85169977 0.85888612 0.86636126 0.8736825  0.88066566\n",
      " 0.88725984 0.89349306 0.89944643 0.90522921]\n",
      "13 day input [[0.91095257]]\n",
      "14 day input [0.75949819 0.75671899 0.72145885 0.72995171 0.73889484 0.73979536\n",
      " 0.70835468 0.71194125 0.676914   0.67627742 0.65559644 0.66199326\n",
      " 0.65191672 0.65607776 0.67180586 0.68191346 0.67598242 0.6679864\n",
      " 0.67610663 0.67362243 0.66331299 0.65856196 0.66697719 0.67770584\n",
      " 0.69436552 0.70411601 0.70009471 0.71686307 0.72856988 0.71872623\n",
      " 0.7383359  0.75811635 0.74571087 0.75271321 0.74179825 0.74139457\n",
      " 0.7331346  0.70975205 0.70563759 0.68935054 0.66632509 0.67452296\n",
      " 0.69031316 0.69860419 0.71090099 0.71647492 0.70040524 0.68512739\n",
      " 0.68121477 0.66795535 0.68733212 0.68671107 0.68612107 0.70436443\n",
      " 0.70835468 0.70708153 0.71448756 0.73210986 0.72502989 0.71425466\n",
      " 0.70444206 0.71405282 0.70621206 0.71686307 0.71684755 0.71914543\n",
      " 0.71850886 0.73728011 0.75237164 0.77235394 0.77716708 0.76938842\n",
      " 0.80196252 0.79753753 0.77876628 0.78140575 0.80087568 0.80312699\n",
      " 0.77667024 0.79047309 0.82099772 0.83023584 0.84644526 0.85251603\n",
      " 0.83520425 0.80519198 0.85376775 0.84485304 0.84268433 0.8457374\n",
      " 0.85169977 0.85888612 0.86636126 0.8736825  0.88066566 0.88725984\n",
      " 0.89349306 0.89944643 0.90522921 0.91095257]\n",
      "14 day input [[0.9167086]]\n",
      "15 day input [0.75671899 0.72145885 0.72995171 0.73889484 0.73979536 0.70835468\n",
      " 0.71194125 0.676914   0.67627742 0.65559644 0.66199326 0.65191672\n",
      " 0.65607776 0.67180586 0.68191346 0.67598242 0.6679864  0.67610663\n",
      " 0.67362243 0.66331299 0.65856196 0.66697719 0.67770584 0.69436552\n",
      " 0.70411601 0.70009471 0.71686307 0.72856988 0.71872623 0.7383359\n",
      " 0.75811635 0.74571087 0.75271321 0.74179825 0.74139457 0.7331346\n",
      " 0.70975205 0.70563759 0.68935054 0.66632509 0.67452296 0.69031316\n",
      " 0.69860419 0.71090099 0.71647492 0.70040524 0.68512739 0.68121477\n",
      " 0.66795535 0.68733212 0.68671107 0.68612107 0.70436443 0.70835468\n",
      " 0.70708153 0.71448756 0.73210986 0.72502989 0.71425466 0.70444206\n",
      " 0.71405282 0.70621206 0.71686307 0.71684755 0.71914543 0.71850886\n",
      " 0.73728011 0.75237164 0.77235394 0.77716708 0.76938842 0.80196252\n",
      " 0.79753753 0.77876628 0.78140575 0.80087568 0.80312699 0.77667024\n",
      " 0.79047309 0.82099772 0.83023584 0.84644526 0.85251603 0.83520425\n",
      " 0.80519198 0.85376775 0.84485304 0.84268433 0.8457374  0.85169977\n",
      " 0.85888612 0.86636126 0.8736825  0.88066566 0.88725984 0.89349306\n",
      " 0.89944643 0.90522921 0.91095257 0.91670859]\n",
      "15 day input [[0.922553]]\n",
      "16 day input [0.72145885 0.72995171 0.73889484 0.73979536 0.70835468 0.71194125\n",
      " 0.676914   0.67627742 0.65559644 0.66199326 0.65191672 0.65607776\n",
      " 0.67180586 0.68191346 0.67598242 0.6679864  0.67610663 0.67362243\n",
      " 0.66331299 0.65856196 0.66697719 0.67770584 0.69436552 0.70411601\n",
      " 0.70009471 0.71686307 0.72856988 0.71872623 0.7383359  0.75811635\n",
      " 0.74571087 0.75271321 0.74179825 0.74139457 0.7331346  0.70975205\n",
      " 0.70563759 0.68935054 0.66632509 0.67452296 0.69031316 0.69860419\n",
      " 0.71090099 0.71647492 0.70040524 0.68512739 0.68121477 0.66795535\n",
      " 0.68733212 0.68671107 0.68612107 0.70436443 0.70835468 0.70708153\n",
      " 0.71448756 0.73210986 0.72502989 0.71425466 0.70444206 0.71405282\n",
      " 0.70621206 0.71686307 0.71684755 0.71914543 0.71850886 0.73728011\n",
      " 0.75237164 0.77235394 0.77716708 0.76938842 0.80196252 0.79753753\n",
      " 0.77876628 0.78140575 0.80087568 0.80312699 0.77667024 0.79047309\n",
      " 0.82099772 0.83023584 0.84644526 0.85251603 0.83520425 0.80519198\n",
      " 0.85376775 0.84485304 0.84268433 0.8457374  0.85169977 0.85888612\n",
      " 0.86636126 0.8736825  0.88066566 0.88725984 0.89349306 0.89944643\n",
      " 0.90522921 0.91095257 0.91670859 0.922553  ]\n",
      "16 day input [[0.9285026]]\n",
      "17 day input [0.72995171 0.73889484 0.73979536 0.70835468 0.71194125 0.676914\n",
      " 0.67627742 0.65559644 0.66199326 0.65191672 0.65607776 0.67180586\n",
      " 0.68191346 0.67598242 0.6679864  0.67610663 0.67362243 0.66331299\n",
      " 0.65856196 0.66697719 0.67770584 0.69436552 0.70411601 0.70009471\n",
      " 0.71686307 0.72856988 0.71872623 0.7383359  0.75811635 0.74571087\n",
      " 0.75271321 0.74179825 0.74139457 0.7331346  0.70975205 0.70563759\n",
      " 0.68935054 0.66632509 0.67452296 0.69031316 0.69860419 0.71090099\n",
      " 0.71647492 0.70040524 0.68512739 0.68121477 0.66795535 0.68733212\n",
      " 0.68671107 0.68612107 0.70436443 0.70835468 0.70708153 0.71448756\n",
      " 0.73210986 0.72502989 0.71425466 0.70444206 0.71405282 0.70621206\n",
      " 0.71686307 0.71684755 0.71914543 0.71850886 0.73728011 0.75237164\n",
      " 0.77235394 0.77716708 0.76938842 0.80196252 0.79753753 0.77876628\n",
      " 0.78140575 0.80087568 0.80312699 0.77667024 0.79047309 0.82099772\n",
      " 0.83023584 0.84644526 0.85251603 0.83520425 0.80519198 0.85376775\n",
      " 0.84485304 0.84268433 0.8457374  0.85169977 0.85888612 0.86636126\n",
      " 0.8736825  0.88066566 0.88725984 0.89349306 0.89944643 0.90522921\n",
      " 0.91095257 0.91670859 0.922553   0.92850262]\n",
      "17 day input [[0.93453985]]\n",
      "18 day input [0.73889484 0.73979536 0.70835468 0.71194125 0.676914   0.67627742\n",
      " 0.65559644 0.66199326 0.65191672 0.65607776 0.67180586 0.68191346\n",
      " 0.67598242 0.6679864  0.67610663 0.67362243 0.66331299 0.65856196\n",
      " 0.66697719 0.67770584 0.69436552 0.70411601 0.70009471 0.71686307\n",
      " 0.72856988 0.71872623 0.7383359  0.75811635 0.74571087 0.75271321\n",
      " 0.74179825 0.74139457 0.7331346  0.70975205 0.70563759 0.68935054\n",
      " 0.66632509 0.67452296 0.69031316 0.69860419 0.71090099 0.71647492\n",
      " 0.70040524 0.68512739 0.68121477 0.66795535 0.68733212 0.68671107\n",
      " 0.68612107 0.70436443 0.70835468 0.70708153 0.71448756 0.73210986\n",
      " 0.72502989 0.71425466 0.70444206 0.71405282 0.70621206 0.71686307\n",
      " 0.71684755 0.71914543 0.71850886 0.73728011 0.75237164 0.77235394\n",
      " 0.77716708 0.76938842 0.80196252 0.79753753 0.77876628 0.78140575\n",
      " 0.80087568 0.80312699 0.77667024 0.79047309 0.82099772 0.83023584\n",
      " 0.84644526 0.85251603 0.83520425 0.80519198 0.85376775 0.84485304\n",
      " 0.84268433 0.8457374  0.85169977 0.85888612 0.86636126 0.8736825\n",
      " 0.88066566 0.88725984 0.89349306 0.89944643 0.90522921 0.91095257\n",
      " 0.91670859 0.922553   0.92850262 0.93453985]\n",
      "18 day input [[0.9406227]]\n",
      "19 day input [0.73979536 0.70835468 0.71194125 0.676914   0.67627742 0.65559644\n",
      " 0.66199326 0.65191672 0.65607776 0.67180586 0.68191346 0.67598242\n",
      " 0.6679864  0.67610663 0.67362243 0.66331299 0.65856196 0.66697719\n",
      " 0.67770584 0.69436552 0.70411601 0.70009471 0.71686307 0.72856988\n",
      " 0.71872623 0.7383359  0.75811635 0.74571087 0.75271321 0.74179825\n",
      " 0.74139457 0.7331346  0.70975205 0.70563759 0.68935054 0.66632509\n",
      " 0.67452296 0.69031316 0.69860419 0.71090099 0.71647492 0.70040524\n",
      " 0.68512739 0.68121477 0.66795535 0.68733212 0.68671107 0.68612107\n",
      " 0.70436443 0.70835468 0.70708153 0.71448756 0.73210986 0.72502989\n",
      " 0.71425466 0.70444206 0.71405282 0.70621206 0.71686307 0.71684755\n",
      " 0.71914543 0.71850886 0.73728011 0.75237164 0.77235394 0.77716708\n",
      " 0.76938842 0.80196252 0.79753753 0.77876628 0.78140575 0.80087568\n",
      " 0.80312699 0.77667024 0.79047309 0.82099772 0.83023584 0.84644526\n",
      " 0.85251603 0.83520425 0.80519198 0.85376775 0.84485304 0.84268433\n",
      " 0.8457374  0.85169977 0.85888612 0.86636126 0.8736825  0.88066566\n",
      " 0.88725984 0.89349306 0.89944643 0.90522921 0.91095257 0.91670859\n",
      " 0.922553   0.92850262 0.93453985 0.94062269]\n",
      "19 day input [[0.94669783]]\n",
      "20 day input [0.70835468 0.71194125 0.676914   0.67627742 0.65559644 0.66199326\n",
      " 0.65191672 0.65607776 0.67180586 0.68191346 0.67598242 0.6679864\n",
      " 0.67610663 0.67362243 0.66331299 0.65856196 0.66697719 0.67770584\n",
      " 0.69436552 0.70411601 0.70009471 0.71686307 0.72856988 0.71872623\n",
      " 0.7383359  0.75811635 0.74571087 0.75271321 0.74179825 0.74139457\n",
      " 0.7331346  0.70975205 0.70563759 0.68935054 0.66632509 0.67452296\n",
      " 0.69031316 0.69860419 0.71090099 0.71647492 0.70040524 0.68512739\n",
      " 0.68121477 0.66795535 0.68733212 0.68671107 0.68612107 0.70436443\n",
      " 0.70835468 0.70708153 0.71448756 0.73210986 0.72502989 0.71425466\n",
      " 0.70444206 0.71405282 0.70621206 0.71686307 0.71684755 0.71914543\n",
      " 0.71850886 0.73728011 0.75237164 0.77235394 0.77716708 0.76938842\n",
      " 0.80196252 0.79753753 0.77876628 0.78140575 0.80087568 0.80312699\n",
      " 0.77667024 0.79047309 0.82099772 0.83023584 0.84644526 0.85251603\n",
      " 0.83520425 0.80519198 0.85376775 0.84485304 0.84268433 0.8457374\n",
      " 0.85169977 0.85888612 0.86636126 0.8736825  0.88066566 0.88725984\n",
      " 0.89349306 0.89944643 0.90522921 0.91095257 0.91670859 0.922553\n",
      " 0.92850262 0.93453985 0.94062269 0.94669783]\n",
      "20 day input [[0.9527136]]\n",
      "21 day input [0.71194125 0.676914   0.67627742 0.65559644 0.66199326 0.65191672\n",
      " 0.65607776 0.67180586 0.68191346 0.67598242 0.6679864  0.67610663\n",
      " 0.67362243 0.66331299 0.65856196 0.66697719 0.67770584 0.69436552\n",
      " 0.70411601 0.70009471 0.71686307 0.72856988 0.71872623 0.7383359\n",
      " 0.75811635 0.74571087 0.75271321 0.74179825 0.74139457 0.7331346\n",
      " 0.70975205 0.70563759 0.68935054 0.66632509 0.67452296 0.69031316\n",
      " 0.69860419 0.71090099 0.71647492 0.70040524 0.68512739 0.68121477\n",
      " 0.66795535 0.68733212 0.68671107 0.68612107 0.70436443 0.70835468\n",
      " 0.70708153 0.71448756 0.73210986 0.72502989 0.71425466 0.70444206\n",
      " 0.71405282 0.70621206 0.71686307 0.71684755 0.71914543 0.71850886\n",
      " 0.73728011 0.75237164 0.77235394 0.77716708 0.76938842 0.80196252\n",
      " 0.79753753 0.77876628 0.78140575 0.80087568 0.80312699 0.77667024\n",
      " 0.79047309 0.82099772 0.83023584 0.84644526 0.85251603 0.83520425\n",
      " 0.80519198 0.85376775 0.84485304 0.84268433 0.8457374  0.85169977\n",
      " 0.85888612 0.86636126 0.8736825  0.88066566 0.88725984 0.89349306\n",
      " 0.89944643 0.90522921 0.91095257 0.91670859 0.922553   0.92850262\n",
      " 0.93453985 0.94062269 0.94669783 0.95271361]\n",
      "21 day input [[0.95862764]]\n",
      "22 day input [0.676914   0.67627742 0.65559644 0.66199326 0.65191672 0.65607776\n",
      " 0.67180586 0.68191346 0.67598242 0.6679864  0.67610663 0.67362243\n",
      " 0.66331299 0.65856196 0.66697719 0.67770584 0.69436552 0.70411601\n",
      " 0.70009471 0.71686307 0.72856988 0.71872623 0.7383359  0.75811635\n",
      " 0.74571087 0.75271321 0.74179825 0.74139457 0.7331346  0.70975205\n",
      " 0.70563759 0.68935054 0.66632509 0.67452296 0.69031316 0.69860419\n",
      " 0.71090099 0.71647492 0.70040524 0.68512739 0.68121477 0.66795535\n",
      " 0.68733212 0.68671107 0.68612107 0.70436443 0.70835468 0.70708153\n",
      " 0.71448756 0.73210986 0.72502989 0.71425466 0.70444206 0.71405282\n",
      " 0.70621206 0.71686307 0.71684755 0.71914543 0.71850886 0.73728011\n",
      " 0.75237164 0.77235394 0.77716708 0.76938842 0.80196252 0.79753753\n",
      " 0.77876628 0.78140575 0.80087568 0.80312699 0.77667024 0.79047309\n",
      " 0.82099772 0.83023584 0.84644526 0.85251603 0.83520425 0.80519198\n",
      " 0.85376775 0.84485304 0.84268433 0.8457374  0.85169977 0.85888612\n",
      " 0.86636126 0.8736825  0.88066566 0.88725984 0.89349306 0.89944643\n",
      " 0.90522921 0.91095257 0.91670859 0.922553   0.92850262 0.93453985\n",
      " 0.94062269 0.94669783 0.95271361 0.95862764]\n",
      "22 day input [[0.96441126]]\n",
      "23 day input [0.67627742 0.65559644 0.66199326 0.65191672 0.65607776 0.67180586\n",
      " 0.68191346 0.67598242 0.6679864  0.67610663 0.67362243 0.66331299\n",
      " 0.65856196 0.66697719 0.67770584 0.69436552 0.70411601 0.70009471\n",
      " 0.71686307 0.72856988 0.71872623 0.7383359  0.75811635 0.74571087\n",
      " 0.75271321 0.74179825 0.74139457 0.7331346  0.70975205 0.70563759\n",
      " 0.68935054 0.66632509 0.67452296 0.69031316 0.69860419 0.71090099\n",
      " 0.71647492 0.70040524 0.68512739 0.68121477 0.66795535 0.68733212\n",
      " 0.68671107 0.68612107 0.70436443 0.70835468 0.70708153 0.71448756\n",
      " 0.73210986 0.72502989 0.71425466 0.70444206 0.71405282 0.70621206\n",
      " 0.71686307 0.71684755 0.71914543 0.71850886 0.73728011 0.75237164\n",
      " 0.77235394 0.77716708 0.76938842 0.80196252 0.79753753 0.77876628\n",
      " 0.78140575 0.80087568 0.80312699 0.77667024 0.79047309 0.82099772\n",
      " 0.83023584 0.84644526 0.85251603 0.83520425 0.80519198 0.85376775\n",
      " 0.84485304 0.84268433 0.8457374  0.85169977 0.85888612 0.86636126\n",
      " 0.8736825  0.88066566 0.88725984 0.89349306 0.89944643 0.90522921\n",
      " 0.91095257 0.91670859 0.922553   0.92850262 0.93453985 0.94062269\n",
      " 0.94669783 0.95271361 0.95862764 0.96441126]\n",
      "23 day input [[0.97005105]]\n",
      "24 day input [0.65559644 0.66199326 0.65191672 0.65607776 0.67180586 0.68191346\n",
      " 0.67598242 0.6679864  0.67610663 0.67362243 0.66331299 0.65856196\n",
      " 0.66697719 0.67770584 0.69436552 0.70411601 0.70009471 0.71686307\n",
      " 0.72856988 0.71872623 0.7383359  0.75811635 0.74571087 0.75271321\n",
      " 0.74179825 0.74139457 0.7331346  0.70975205 0.70563759 0.68935054\n",
      " 0.66632509 0.67452296 0.69031316 0.69860419 0.71090099 0.71647492\n",
      " 0.70040524 0.68512739 0.68121477 0.66795535 0.68733212 0.68671107\n",
      " 0.68612107 0.70436443 0.70835468 0.70708153 0.71448756 0.73210986\n",
      " 0.72502989 0.71425466 0.70444206 0.71405282 0.70621206 0.71686307\n",
      " 0.71684755 0.71914543 0.71850886 0.73728011 0.75237164 0.77235394\n",
      " 0.77716708 0.76938842 0.80196252 0.79753753 0.77876628 0.78140575\n",
      " 0.80087568 0.80312699 0.77667024 0.79047309 0.82099772 0.83023584\n",
      " 0.84644526 0.85251603 0.83520425 0.80519198 0.85376775 0.84485304\n",
      " 0.84268433 0.8457374  0.85169977 0.85888612 0.86636126 0.8736825\n",
      " 0.88066566 0.88725984 0.89349306 0.89944643 0.90522921 0.91095257\n",
      " 0.91670859 0.922553   0.92850262 0.93453985 0.94062269 0.94669783\n",
      " 0.95271361 0.95862764 0.96441126 0.97005105]\n"
     ]
    },
    {
     "name": "stdout",
     "output_type": "stream",
     "text": [
      "24 day input [[0.975546]]\n",
      "25 day input [0.66199326 0.65191672 0.65607776 0.67180586 0.68191346 0.67598242\n",
      " 0.6679864  0.67610663 0.67362243 0.66331299 0.65856196 0.66697719\n",
      " 0.67770584 0.69436552 0.70411601 0.70009471 0.71686307 0.72856988\n",
      " 0.71872623 0.7383359  0.75811635 0.74571087 0.75271321 0.74179825\n",
      " 0.74139457 0.7331346  0.70975205 0.70563759 0.68935054 0.66632509\n",
      " 0.67452296 0.69031316 0.69860419 0.71090099 0.71647492 0.70040524\n",
      " 0.68512739 0.68121477 0.66795535 0.68733212 0.68671107 0.68612107\n",
      " 0.70436443 0.70835468 0.70708153 0.71448756 0.73210986 0.72502989\n",
      " 0.71425466 0.70444206 0.71405282 0.70621206 0.71686307 0.71684755\n",
      " 0.71914543 0.71850886 0.73728011 0.75237164 0.77235394 0.77716708\n",
      " 0.76938842 0.80196252 0.79753753 0.77876628 0.78140575 0.80087568\n",
      " 0.80312699 0.77667024 0.79047309 0.82099772 0.83023584 0.84644526\n",
      " 0.85251603 0.83520425 0.80519198 0.85376775 0.84485304 0.84268433\n",
      " 0.8457374  0.85169977 0.85888612 0.86636126 0.8736825  0.88066566\n",
      " 0.88725984 0.89349306 0.89944643 0.90522921 0.91095257 0.91670859\n",
      " 0.922553   0.92850262 0.93453985 0.94062269 0.94669783 0.95271361\n",
      " 0.95862764 0.96441126 0.97005105 0.975546  ]\n",
      "25 day input [[0.98090416]]\n",
      "26 day input [0.65191672 0.65607776 0.67180586 0.68191346 0.67598242 0.6679864\n",
      " 0.67610663 0.67362243 0.66331299 0.65856196 0.66697719 0.67770584\n",
      " 0.69436552 0.70411601 0.70009471 0.71686307 0.72856988 0.71872623\n",
      " 0.7383359  0.75811635 0.74571087 0.75271321 0.74179825 0.74139457\n",
      " 0.7331346  0.70975205 0.70563759 0.68935054 0.66632509 0.67452296\n",
      " 0.69031316 0.69860419 0.71090099 0.71647492 0.70040524 0.68512739\n",
      " 0.68121477 0.66795535 0.68733212 0.68671107 0.68612107 0.70436443\n",
      " 0.70835468 0.70708153 0.71448756 0.73210986 0.72502989 0.71425466\n",
      " 0.70444206 0.71405282 0.70621206 0.71686307 0.71684755 0.71914543\n",
      " 0.71850886 0.73728011 0.75237164 0.77235394 0.77716708 0.76938842\n",
      " 0.80196252 0.79753753 0.77876628 0.78140575 0.80087568 0.80312699\n",
      " 0.77667024 0.79047309 0.82099772 0.83023584 0.84644526 0.85251603\n",
      " 0.83520425 0.80519198 0.85376775 0.84485304 0.84268433 0.8457374\n",
      " 0.85169977 0.85888612 0.86636126 0.8736825  0.88066566 0.88725984\n",
      " 0.89349306 0.89944643 0.90522921 0.91095257 0.91670859 0.922553\n",
      " 0.92850262 0.93453985 0.94062269 0.94669783 0.95271361 0.95862764\n",
      " 0.96441126 0.97005105 0.975546   0.98090416]\n",
      "26 day input [[0.98613876]]\n",
      "27 day input [0.65607776 0.67180586 0.68191346 0.67598242 0.6679864  0.67610663\n",
      " 0.67362243 0.66331299 0.65856196 0.66697719 0.67770584 0.69436552\n",
      " 0.70411601 0.70009471 0.71686307 0.72856988 0.71872623 0.7383359\n",
      " 0.75811635 0.74571087 0.75271321 0.74179825 0.74139457 0.7331346\n",
      " 0.70975205 0.70563759 0.68935054 0.66632509 0.67452296 0.69031316\n",
      " 0.69860419 0.71090099 0.71647492 0.70040524 0.68512739 0.68121477\n",
      " 0.66795535 0.68733212 0.68671107 0.68612107 0.70436443 0.70835468\n",
      " 0.70708153 0.71448756 0.73210986 0.72502989 0.71425466 0.70444206\n",
      " 0.71405282 0.70621206 0.71686307 0.71684755 0.71914543 0.71850886\n",
      " 0.73728011 0.75237164 0.77235394 0.77716708 0.76938842 0.80196252\n",
      " 0.79753753 0.77876628 0.78140575 0.80087568 0.80312699 0.77667024\n",
      " 0.79047309 0.82099772 0.83023584 0.84644526 0.85251603 0.83520425\n",
      " 0.80519198 0.85376775 0.84485304 0.84268433 0.8457374  0.85169977\n",
      " 0.85888612 0.86636126 0.8736825  0.88066566 0.88725984 0.89349306\n",
      " 0.89944643 0.90522921 0.91095257 0.91670859 0.922553   0.92850262\n",
      " 0.93453985 0.94062269 0.94669783 0.95271361 0.95862764 0.96441126\n",
      " 0.97005105 0.975546   0.98090416 0.98613876]\n",
      "27 day input [[0.9912639]]\n",
      "28 day input [0.67180586 0.68191346 0.67598242 0.6679864  0.67610663 0.67362243\n",
      " 0.66331299 0.65856196 0.66697719 0.67770584 0.69436552 0.70411601\n",
      " 0.70009471 0.71686307 0.72856988 0.71872623 0.7383359  0.75811635\n",
      " 0.74571087 0.75271321 0.74179825 0.74139457 0.7331346  0.70975205\n",
      " 0.70563759 0.68935054 0.66632509 0.67452296 0.69031316 0.69860419\n",
      " 0.71090099 0.71647492 0.70040524 0.68512739 0.68121477 0.66795535\n",
      " 0.68733212 0.68671107 0.68612107 0.70436443 0.70835468 0.70708153\n",
      " 0.71448756 0.73210986 0.72502989 0.71425466 0.70444206 0.71405282\n",
      " 0.70621206 0.71686307 0.71684755 0.71914543 0.71850886 0.73728011\n",
      " 0.75237164 0.77235394 0.77716708 0.76938842 0.80196252 0.79753753\n",
      " 0.77876628 0.78140575 0.80087568 0.80312699 0.77667024 0.79047309\n",
      " 0.82099772 0.83023584 0.84644526 0.85251603 0.83520425 0.80519198\n",
      " 0.85376775 0.84485304 0.84268433 0.8457374  0.85169977 0.85888612\n",
      " 0.86636126 0.8736825  0.88066566 0.88725984 0.89349306 0.89944643\n",
      " 0.90522921 0.91095257 0.91670859 0.922553   0.92850262 0.93453985\n",
      " 0.94062269 0.94669783 0.95271361 0.95862764 0.96441126 0.97005105\n",
      " 0.975546   0.98090416 0.98613876 0.99126393]\n",
      "28 day input [[0.9962922]]\n",
      "29 day input [0.68191346 0.67598242 0.6679864  0.67610663 0.67362243 0.66331299\n",
      " 0.65856196 0.66697719 0.67770584 0.69436552 0.70411601 0.70009471\n",
      " 0.71686307 0.72856988 0.71872623 0.7383359  0.75811635 0.74571087\n",
      " 0.75271321 0.74179825 0.74139457 0.7331346  0.70975205 0.70563759\n",
      " 0.68935054 0.66632509 0.67452296 0.69031316 0.69860419 0.71090099\n",
      " 0.71647492 0.70040524 0.68512739 0.68121477 0.66795535 0.68733212\n",
      " 0.68671107 0.68612107 0.70436443 0.70835468 0.70708153 0.71448756\n",
      " 0.73210986 0.72502989 0.71425466 0.70444206 0.71405282 0.70621206\n",
      " 0.71686307 0.71684755 0.71914543 0.71850886 0.73728011 0.75237164\n",
      " 0.77235394 0.77716708 0.76938842 0.80196252 0.79753753 0.77876628\n",
      " 0.78140575 0.80087568 0.80312699 0.77667024 0.79047309 0.82099772\n",
      " 0.83023584 0.84644526 0.85251603 0.83520425 0.80519198 0.85376775\n",
      " 0.84485304 0.84268433 0.8457374  0.85169977 0.85888612 0.86636126\n",
      " 0.8736825  0.88066566 0.88725984 0.89349306 0.89944643 0.90522921\n",
      " 0.91095257 0.91670859 0.922553   0.92850262 0.93453985 0.94062269\n",
      " 0.94669783 0.95271361 0.95862764 0.96441126 0.97005105 0.975546\n",
      " 0.98090416 0.98613876 0.99126393 0.99629217]\n",
      "29 day input [[1.001233]]\n"
     ]
    }
   ],
   "source": [
    "#Demonstrating predictions for next 30 days\n",
    "lst_output=[]\n",
    "n_steps=100\n",
    "i=0\n",
    "while(i<30):\n",
    "    if(len(temp_input)>100):\n",
    "        #print(temp_input)\n",
    "        x_input=np.array(temp_input[1:])\n",
    "        print(\"{} day input {}\".format(i,x_input))\n",
    "        x_input=x_input.reshape(1,-1)\n",
    "        x_input=x_input.reshape((1, n_steps, 1))\n",
    "        y_hat=model.predict(x_input,verbose=0)\n",
    "        print(\"{} day input {}\".format(i,y_hat))\n",
    "        temp_input.extend(y_hat[0].tolist())\n",
    "        temp_input=temp_input[1:]\n",
    "        #print(temp_input)\n",
    "        lst_output.extend(y_hat.tolist())\n",
    "        i=i+1\n",
    "    else:\n",
    "        x_input=x_input.reshape((1,n_steps,1))\n",
    "        y_hat=model.predict(x_input,verbose=0)\n",
    "        print(y_hat[0])\n",
    "        temp_input.extend(y_hat[0].tolist())\n",
    "        print(len(temp_input))\n",
    "        lst_output.extend(y_hat.tolist())\n",
    "        i=i+1"
   ]
  },
  {
   "cell_type": "code",
   "execution_count": 139,
   "id": "1a32a30d",
   "metadata": {},
   "outputs": [
    {
     "name": "stdout",
     "output_type": "stream",
     "text": [
      "[[0.8537677526473999], [0.8448530435562134], [0.8426843285560608], [0.8457373976707458], [0.8516997694969177], [0.8588861227035522], [0.8663612604141235], [0.8736824989318848], [0.88066565990448], [0.887259840965271], [0.8934930562973022], [0.899446427822113], [0.9052292108535767], [0.9109525680541992], [0.9167085886001587], [0.9225530028343201], [0.92850261926651], [0.9345398545265198], [0.9406226873397827], [0.9466978311538696], [0.9527136087417603], [0.9586276412010193], [0.9644112586975098], [0.9700510501861572], [0.9755460023880005], [0.9809041619300842], [0.9861387610435486], [0.9912639260292053], [0.9962921738624573], [1.0012329816818237]]\n"
     ]
    }
   ],
   "source": [
    "print(lst_output)"
   ]
  },
  {
   "cell_type": "code",
   "execution_count": 140,
   "id": "7f00240c",
   "metadata": {},
   "outputs": [],
   "source": [
    "day_new=np.arange(1,101)\n",
    "day_pred=np.arange(101,131)"
   ]
  },
  {
   "cell_type": "code",
   "execution_count": 141,
   "id": "5fdd67ad",
   "metadata": {},
   "outputs": [
    {
     "data": {
      "text/plain": [
       "1257"
      ]
     },
     "execution_count": 141,
     "metadata": {},
     "output_type": "execute_result"
    }
   ],
   "source": [
    "len(df1)"
   ]
  },
  {
   "cell_type": "code",
   "execution_count": 142,
   "id": "fdfe15d8",
   "metadata": {},
   "outputs": [
    {
     "data": {
      "text/plain": [
       "(100, 1)"
      ]
     },
     "execution_count": 142,
     "metadata": {},
     "output_type": "execute_result"
    }
   ],
   "source": [
    "df1[1157:].shape"
   ]
  },
  {
   "cell_type": "code",
   "execution_count": 143,
   "id": "2f40e57e",
   "metadata": {},
   "outputs": [
    {
     "data": {
      "text/plain": [
       "30"
      ]
     },
     "execution_count": 143,
     "metadata": {},
     "output_type": "execute_result"
    }
   ],
   "source": [
    "len(lst_output)"
   ]
  },
  {
   "cell_type": "code",
   "execution_count": 144,
   "id": "f208dc9f",
   "metadata": {},
   "outputs": [
    {
     "data": {
      "text/plain": [
       "[[0.8537677526473999],\n",
       " [0.8448530435562134],\n",
       " [0.8426843285560608],\n",
       " [0.8457373976707458],\n",
       " [0.8516997694969177],\n",
       " [0.8588861227035522],\n",
       " [0.8663612604141235],\n",
       " [0.8736824989318848],\n",
       " [0.88066565990448],\n",
       " [0.887259840965271],\n",
       " [0.8934930562973022],\n",
       " [0.899446427822113],\n",
       " [0.9052292108535767],\n",
       " [0.9109525680541992],\n",
       " [0.9167085886001587],\n",
       " [0.9225530028343201],\n",
       " [0.92850261926651],\n",
       " [0.9345398545265198],\n",
       " [0.9406226873397827],\n",
       " [0.9466978311538696],\n",
       " [0.9527136087417603],\n",
       " [0.9586276412010193],\n",
       " [0.9644112586975098],\n",
       " [0.9700510501861572],\n",
       " [0.9755460023880005],\n",
       " [0.9809041619300842],\n",
       " [0.9861387610435486],\n",
       " [0.9912639260292053],\n",
       " [0.9962921738624573],\n",
       " [1.0012329816818237]]"
      ]
     },
     "execution_count": 144,
     "metadata": {},
     "output_type": "execute_result"
    }
   ],
   "source": [
    "lst_output"
   ]
  },
  {
   "cell_type": "code",
   "execution_count": 145,
   "id": "d6e54a7f",
   "metadata": {},
   "outputs": [
    {
     "data": {
      "text/plain": [
       "[<matplotlib.lines.Line2D at 0x7f91f8127430>]"
      ]
     },
     "execution_count": 145,
     "metadata": {},
     "output_type": "execute_result"
    },
    {
     "data": {
      "image/png": "[encoded data removed]",
      "text/plain": [
       "<Figure size 432x288 with 1 Axes>"
      ]
     },
     "metadata": {
      "needs_background": "light"
     },
     "output_type": "display_data"
    }
   ],
   "source": [
    "plt.plot(day_new,scaler.inverse_transform(df1[1157:]))\n",
    "plt.plot(day_pred,scaler.inverse_transform(lst_output))"
   ]
  },
  {
   "cell_type": "code",
   "execution_count": 147,
   "id": "696231f9",
   "metadata": {},
   "outputs": [
    {
     "data": {
      "text/plain": [
       "[<matplotlib.lines.Line2D at 0x7f920b4ac190>]"
      ]
     },
     "execution_count": 147,
     "metadata": {},
     "output_type": "execute_result"
    },
    {
     "data": {
      "image/png": "[encoded data removed]",
      "text/plain": [
       "<Figure size 432x288 with 1 Axes>"
      ]
     },
     "metadata": {
      "needs_background": "light"
     },
     "output_type": "display_data"
    }
   ],
   "source": [
    "df3=df1.tolist()\n",
    "df3.extend(lst_output)\n",
    "plt.plot(df3[1200:])"
   ]
  },
  {
   "cell_type": "code",
   "execution_count": 149,
   "id": "050f8a97",
   "metadata": {},
   "outputs": [],
   "source": [
    "df3=scaler.inverse_transform(df3).tolist()"
   ]
  },
  {
   "cell_type": "code",
   "execution_count": 150,
   "id": "ce0bffed",
   "metadata": {},
   "outputs": [
    {
     "data": {
      "text/plain": [
       "[<matplotlib.lines.Line2D at 0x7f920bcd4a90>]"
      ]
     },
     "execution_count": 150,
     "metadata": {},
     "output_type": "execute_result"
    },
    {
     "data": {
      "image/png": "[encoded data removed]",
      "text/plain": [
       "<Figure size 432x288 with 1 Axes>"
      ]
     },
     "metadata": {
      "needs_background": "light"
     },
     "output_type": "display_data"
    }
   ],
   "source": [
    "plt.plot(df3)"
   ]
  },
  {
   "cell_type": "code",
   "execution_count": null,
   "id": "a243800e",
   "metadata": {},
   "outputs": [],
   "source": []
  }
 ],
 "metadata": {
  "kernelspec": {
   "display_name": "Python 3 (ipykernel)",
   "language": "python",
   "name": "python3"
  },
  "language_info": {
   "codemirror_mode": {
    "name": "ipython",
    "version": 3
   },
   "file_extension": ".py",
   "mimetype": "text/x-python",
   "name": "python",
   "nbconvert_exporter": "python",
   "pygments_lexer": "ipython3",
   "version": "3.9.12"
  }
 },
 "nbformat": 4,
 "nbformat_minor": 5
}
